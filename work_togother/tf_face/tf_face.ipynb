{
 "cells": [
  {
   "cell_type": "markdown",
   "metadata": {},
   "source": [
    "# Code Togother\n",
    "## Face Recognition\n",
    "## Dataset\n",
    "## Softmax-based implementation"
   ]
  },
  {
   "cell_type": "markdown",
   "metadata": {},
   "source": [
    "# Face Recognition\n",
    "## Task\n",
    "\n",
    "- Face identification: classify a face to a specific identity\n",
    "- Face verification: determine whether a pair of faces belongs to the same identity\n",
    "\n",
    "## Test protocol\n",
    "\n",
    "- Closed-set protocol: all testing identities are predefined in trained set\n",
    "- Open-set protocol: the testing identities are usually disjoint from the training set\n",
    "\n",
    "## Methods\n",
    "- Classification Problem\n",
    "- Metric Learning Problem\n",
    "\n",
    "![image](figures/face_recogntion.png)"
   ]
  },
  {
   "cell_type": "markdown",
   "metadata": {},
   "source": [
    "# [Dataset](https://github.com/yule-li/tensorflow-practice/blob/master/doc/dataset.md)"
   ]
  },
  {
   "cell_type": "markdown",
   "metadata": {},
   "source": [
    "# Softmax-based implementation\n",
    "![image](figures/softmax-based.png)"
   ]
  },
  {
   "cell_type": "markdown",
   "metadata": {},
   "source": [
    "## regularization\n",
    "\n",
    "![image](figures/reg.png)"
   ]
  },
  {
   "cell_type": "code",
   "execution_count": null,
   "metadata": {},
   "outputs": [],
   "source": []
  }
 ],
 "metadata": {
  "kernelspec": {
   "display_name": "Python 2",
   "language": "python",
   "name": "python2"
  },
  "language_info": {
   "codemirror_mode": {
    "name": "ipython",
    "version": 2
   },
   "file_extension": ".py",
   "mimetype": "text/x-python",
   "name": "python",
   "nbconvert_exporter": "python",
   "pygments_lexer": "ipython2",
   "version": "2.7.6"
  }
 },
 "nbformat": 4,
 "nbformat_minor": 2
}
