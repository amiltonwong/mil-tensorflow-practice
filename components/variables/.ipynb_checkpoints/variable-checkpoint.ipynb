{
 "cells": [
  {
   "cell_type": "markdown",
   "metadata": {},
   "source": [
    "## Variable\n",
    "A tensorflow variable is used to represent shared, persistent state manipulated by your program.\n",
    "The difference between ```Tensor``` and ```Variable``` as bellow:\n",
    "- the value of ```Variabel``` is mutable, but ```Tensor``` not\n",
    "- A variable maintains state in the graph across calls to ```run()``` and the modifications to a variable are visible across multiple.\n",
    "\n",
    "There are two methods to define a varialbe:\n",
    "- ```tf.Variable```\n",
    "- ```tf.get_variable```"
   ]
  },
  {
   "cell_type": "code",
   "execution_count": 1,
   "metadata": {},
   "outputs": [
    {
     "name": "stderr",
     "output_type": "stream",
     "text": [
      "/root/anaconda3/envs/tf1.4_gpu/lib/python3.6/importlib/_bootstrap.py:219: RuntimeWarning: compiletime version 3.5 of module 'tensorflow.python.framework.fast_tensor_util' does not match runtime version 3.6\n",
      "  return f(*args, **kwds)\n",
      "/root/anaconda3/envs/tf1.4_gpu/lib/python3.6/site-packages/h5py/__init__.py:36: FutureWarning: Conversion of the second argument of issubdtype from `float` to `np.floating` is deprecated. In future, it will be treated as `np.float64 == np.dtype(float).type`.\n",
      "  from ._conv import register_converters as _register_converters\n"
     ]
    }
   ],
   "source": [
    "import tensorflow as tf\n"
   ]
  },
  {
   "cell_type": "code",
   "execution_count": 9,
   "metadata": {},
   "outputs": [
    {
     "name": "stdout",
     "output_type": "stream",
     "text": [
      "[<tf.Tensor 'a:0' shape=() dtype=int32>, <tf.Tensor 'b:0' shape=() dtype=int32>, <tf.Tensor 'add:0' shape=() dtype=int32>]\n",
      "\n",
      "\n",
      "Tensor(\"a:0\", shape=(), dtype=int32)\n",
      "Tensor(\"add:0\", shape=(), dtype=int32)\n",
      "Tensor(\"a:0\", shape=(), dtype=int32)\n",
      "[1, 3]\n"
     ]
    }
   ],
   "source": [
    "# verify \"Tensor\" is immutable\n",
    "tf.reset_default_graph()\n",
    "# assemble a graph\n",
    "a = tf.constant(1,name='a')\n",
    "b = tf.constant(2,name='b')\n",
    "a_before = a\n",
    "a = tf.add(a,b, name=\"add\") # 嘗試對Tensor \"a\"進行修改\n",
    "#a = a + b # 嘗試對Tensor \"a\"進行修改\n",
    "print(tf.contrib.graph_editor.get_tensors(tf.get_default_graph())) # 找出graph中有多少個tensor\n",
    "print(\"\\n\")\n",
    "print(a_before)\n",
    "print(a)\n",
    "print(tf.get_default_graph().get_tensor_by_name('a:0')) # 可通過Tensor名字來獲取Tensor\n",
    "# execute a graph\n",
    "with tf.Session() as sess:\n",
    "    print(sess.run([a_before,a]))"
   ]
  },
  {
   "cell_type": "code",
   "execution_count": 5,
   "metadata": {},
   "outputs": [
    {
     "data": {
      "text/plain": [
       "[name: \"a\"\n",
       "op: \"Const\"\n",
       "attr {\n",
       "  key: \"dtype\"\n",
       "  value {\n",
       "    type: DT_INT32\n",
       "  }\n",
       "}\n",
       "attr {\n",
       "  key: \"value\"\n",
       "  value {\n",
       "    tensor {\n",
       "      dtype: DT_INT32\n",
       "      tensor_shape {\n",
       "      }\n",
       "      int_val: 1\n",
       "    }\n",
       "  }\n",
       "}\n",
       ", name: \"b\"\n",
       "op: \"Const\"\n",
       "attr {\n",
       "  key: \"dtype\"\n",
       "  value {\n",
       "    type: DT_INT32\n",
       "  }\n",
       "}\n",
       "attr {\n",
       "  key: \"value\"\n",
       "  value {\n",
       "    tensor {\n",
       "      dtype: DT_INT32\n",
       "      tensor_shape {\n",
       "      }\n",
       "      int_val: 2\n",
       "    }\n",
       "  }\n",
       "}\n",
       ", name: \"add\"\n",
       "op: \"Add\"\n",
       "input: \"a\"\n",
       "input: \"b\"\n",
       "attr {\n",
       "  key: \"T\"\n",
       "  value {\n",
       "    type: DT_INT32\n",
       "  }\n",
       "}\n",
       "]"
      ]
     },
     "execution_count": 5,
     "metadata": {},
     "output_type": "execute_result"
    }
   ],
   "source": [
    "tf.get_default_graph().as_graph_def().node"
   ]
  },
  {
   "cell_type": "code",
   "execution_count": 11,
   "metadata": {},
   "outputs": [
    {
     "name": "stdout",
     "output_type": "stream",
     "text": [
      "[3, 3]\n"
     ]
    }
   ],
   "source": [
    "# assemble a graph\n",
    "tf.reset_default_graph()\n",
    "a = tf.Variable(1,name='a',trainable=True)\n",
    "b = tf.constant(2,name='b')\n",
    "assign = tf.assign(a,a+b)\n",
    "# execute a graph\n",
    "with tf.Session() as sess:\n",
    "    #sess.run(a.initializer) # need to initialize variable before running the operations\n",
    "    print(sess.run([assign,a]))"
   ]
  },
  {
   "cell_type": "markdown",
   "metadata": {},
   "source": [
    "## Initialize your variable\n",
    "If you tensorflow program contains Variable, you must first run the ```initialize``` all Variable before ```sess.run``` "
   ]
  },
  {
   "cell_type": "markdown",
   "metadata": {},
   "source": [
    "### Using the ```initializer``` op of ```Variable``` to inittialize the single  ```Variable```"
   ]
  },
  {
   "cell_type": "code",
   "execution_count": 12,
   "metadata": {},
   "outputs": [
    {
     "name": "stdout",
     "output_type": "stream",
     "text": [
      "name: \"a/Assign\"\n",
      "op: \"Assign\"\n",
      "input: \"a\"\n",
      "input: \"a/initial_value\"\n",
      "attr {\n",
      "  key: \"T\"\n",
      "  value {\n",
      "    type: DT_INT32\n",
      "  }\n",
      "}\n",
      "attr {\n",
      "  key: \"_class\"\n",
      "  value {\n",
      "    list {\n",
      "      s: \"loc:@a\"\n",
      "    }\n",
      "  }\n",
      "}\n",
      "attr {\n",
      "  key: \"use_locking\"\n",
      "  value {\n",
      "    b: true\n",
      "  }\n",
      "}\n",
      "attr {\n",
      "  key: \"validate_shape\"\n",
      "  value {\n",
      "    b: true\n",
      "  }\n",
      "}\n",
      "\n",
      "[3, 3]\n"
     ]
    }
   ],
   "source": [
    "# assemble a graph\n",
    "tf.reset_default_graph()\n",
    "a = tf.Variable(1,name='a',trainable=True)\n",
    "b = tf.constant(2,name='b')\n",
    "c = tf.add(a,b,name='c')\n",
    "assign = tf.assign(a,c)\n",
    "#d = tf.add(c,assign,name='d')\n",
    "# execute a graph\n",
    "tf.summary.FileWriter('variable_init',tf.get_default_graph()) # write default_graph to disk\n",
    "with tf.Session() as sess:\n",
    "  \n",
    "    print(a.initializer)\n",
    "    sess.run(a.initializer)\n",
    "    print(sess.run([assign,a]))"
   ]
  },
  {
   "cell_type": "markdown",
   "metadata": {},
   "source": [
    "### Using the ```tf.assign``` to initialize the single ```Variable```"
   ]
  },
  {
   "cell_type": "code",
   "execution_count": 13,
   "metadata": {},
   "outputs": [
    {
     "name": "stdout",
     "output_type": "stream",
     "text": [
      "[3, 3]\n"
     ]
    }
   ],
   "source": [
    "# assemble a graph\n",
    "tf.reset_default_graph()\n",
    "a = tf.Variable(1,name='a',trainable=True)\n",
    "b = tf.constant(2,name='b')\n",
    "c = tf.add(a,b,name='c')\n",
    "assign = tf.assign(a,c)  # assign c value to a\n",
    "#d = tf.add(c,assign,name='d')\n",
    "# execute a graph\n",
    "#tf.summary.FileWriter('variable_init',tf.get_default_graph())\n",
    "with tf.Session() as sess:\n",
    "    sess.run(tf.assign(a,1))  # asssign value 1 to Variable \"a\"\n",
    "    print(sess.run([assign,a]))"
   ]
  },
  {
   "cell_type": "markdown",
   "metadata": {},
   "source": [
    "### Using the ```tf.global_variables_initializer()``` to initialize all variables once."
   ]
  },
  {
   "cell_type": "code",
   "execution_count": 14,
   "metadata": {},
   "outputs": [
    {
     "name": "stdout",
     "output_type": "stream",
     "text": [
      "[3, 3]\n"
     ]
    }
   ],
   "source": [
    "# assemble a graph\n",
    "tf.reset_default_graph()\n",
    "a = tf.Variable(1,name='a',trainable=True)\n",
    "b = tf.constant(2,name='b')\n",
    "c = tf.add(a,b,name='c')\n",
    "assign = tf.assign(a,c)\n",
    "\n",
    "# execute a graph\n",
    "#\n",
    "#print(tf.global_variables_initializer())\n",
    "with tf.Session() as sess:\n",
    "    sess.run(tf.global_variables_initializer())\n",
    "    print(sess.run([assign,a]))"
   ]
  },
  {
   "cell_type": "code",
   "execution_count": 15,
   "metadata": {},
   "outputs": [
    {
     "name": "stdout",
     "output_type": "stream",
     "text": [
      "[3, 3]\n",
      "[5, 5]\n",
      "[7, 7]\n"
     ]
    }
   ],
   "source": [
    "# assemble a graph\n",
    "tf.reset_default_graph()\n",
    "a = tf.Variable(1,name='a',trainable=True)\n",
    "b = tf.constant(2,name='b')\n",
    "assign = tf.assign(a,a+b)\n",
    "#d = tf.add(c,assign,name='d')\n",
    "# execute a graph\n",
    "#tf.summary.FileWriter('variable_init',tf.get_default_graph())\n",
    "with tf.Session() as sess:\n",
    "    sess.run(tf.global_variables_initializer())\n",
    "    print(sess.run([assign,a]))\n",
    "    print(sess.run([assign,a]))\n",
    "    print(sess.run([assign,a]))\n",
    "    "
   ]
  },
  {
   "cell_type": "markdown",
   "metadata": {},
   "source": [
    "## Variable collections\n",
    "Because disconnected parts of a TensorFlow program might want to create variables, it's sometimes useful to have a single way to access all of them. For this reason TensorFlow provides collections, which are named list of tensors or other object, such as ```tf.Variable``` instances.\n",
    "\n",
    "The new variable is added to the graph collections listed in ```collections```, which defaults to [GraphKeys.GLOBAL_VARIABLES].\n",
    "If ```trainable``` is ```True``` the variable is also added to the graph collections ```GraphKeys.TRAINABLE_VARIABLES```"
   ]
  },
  {
   "cell_type": "code",
   "execution_count": 19,
   "metadata": {},
   "outputs": [
    {
     "name": "stdout",
     "output_type": "stream",
     "text": [
      "[<tf.Variable 'a:0' shape=() dtype=int32_ref>]\n"
     ]
    }
   ],
   "source": [
    "print(tf.get_collection(tf.GraphKeys.TRAINABLE_VARIABLES))\n",
    "#print(tf.get_collection(tf.GraphKeys.GLOBAL_VARIABLES))\n",
    "#print(tf.global_variables())\n",
    "#print(tf.trainable_variables())\n",
    "#tf.add_to_collection('my_collection',a) # 自定義collection\n",
    "#print(tf.get_collection('my_collection'))"
   ]
  },
  {
   "cell_type": "code",
   "execution_count": 20,
   "metadata": {},
   "outputs": [
    {
     "name": "stdout",
     "output_type": "stream",
     "text": [
      "[<tf.Variable 'a:0' shape=() dtype=int32_ref>]\n"
     ]
    }
   ],
   "source": [
    "tf.add_to_collection('my_collection',a) # 自定義collection\n",
    "print(tf.get_collection('my_collection'))"
   ]
  },
  {
   "cell_type": "markdown",
   "metadata": {},
   "source": [
    "## Understanding order of execution and control dependencies"
   ]
  },
  {
   "cell_type": "code",
   "execution_count": 69,
   "metadata": {},
   "outputs": [
    {
     "name": "stdout",
     "output_type": "stream",
     "text": [
      "(set([5]), set([3, 7]))\n"
     ]
    }
   ],
   "source": [
    "# assemble a graph\n",
    "tf.reset_default_graph()\n",
    "a = tf.Variable(1,name='a',trainable=True)\n",
    "b = tf.constant(2,name='b')\n",
    "c = a+b\n",
    "assign = tf.assign(a,5)\n",
    "\n",
    "# execute a graph\n",
    "#print(tf.global_variables_initializer())\n",
    "assign_list = []\n",
    "c_list = []\n",
    "with tf.Session() as sess:\n",
    "    for _ in range(1500):\n",
    "        sess.run(tf.global_variables_initializer())\n",
    "        temp = sess.run([assign,c])\n",
    "        assign_list.append(temp[0])\n",
    "        c_list.append(temp[1])\n",
    "    print(set(assign_list),set(c_list))"
   ]
  },
  {
   "cell_type": "code",
   "execution_count": 21,
   "metadata": {},
   "outputs": [
    {
     "name": "stdout",
     "output_type": "stream",
     "text": [
      "name: \"init\"\n",
      "op: \"NoOp\"\n",
      "input: \"^a/Assign\"\n",
      "\n",
      "{5} {3}\n"
     ]
    }
   ],
   "source": [
    "# assemble a graph\n",
    "tf.reset_default_graph()\n",
    "a = tf.Variable(1,name='a',trainable=True)\n",
    "b = tf.constant(2,name='b')\n",
    "c = a+b\n",
    "with tf.control_dependencies([c]):\n",
    "    assign = tf.assign(a,5)\n",
    "\n",
    "# execute a graph\n",
    "print(tf.global_variables_initializer())\n",
    "assign_list = []\n",
    "c_list = []\n",
    "with tf.Session() as sess:\n",
    "    for _ in range(1500):\n",
    "        sess.run(tf.global_variables_initializer())\n",
    "        temp = sess.run([assign,c])\n",
    "        assign_list.append(temp[0])\n",
    "        c_list.append(temp[1])\n",
    "    print(set(assign_list),set(c_list))"
   ]
  },
  {
   "cell_type": "markdown",
   "metadata": {},
   "source": [
    "## Define a variable using ```tf.get_variable```"
   ]
  },
  {
   "cell_type": "code",
   "execution_count": 22,
   "metadata": {},
   "outputs": [
    {
     "name": "stdout",
     "output_type": "stream",
     "text": [
      "<tf.Variable 'a:0' shape=() dtype=int32_ref>\n",
      "[3, 3]\n"
     ]
    }
   ],
   "source": [
    "# assemble a graph\n",
    "tf.reset_default_graph()\n",
    "a = tf.get_variable('a',dtype=tf.int32,initializer=1)\n",
    "#a = tf.Variable(1,name='a',trainable=True)\n",
    "print(a)\n",
    "b = tf.constant(2,name='b')\n",
    "c = tf.add(a,b,name='c')\n",
    "assign = tf.assign(a,c)\n",
    "\n",
    "# execute a graph\n",
    "#\n",
    "#print(tf.global_variables_initializer())\n",
    "with tf.Session() as sess:\n",
    "    sess.run(tf.global_variables_initializer())\n",
    "    print(sess.run([assign,a]))"
   ]
  },
  {
   "cell_type": "code",
   "execution_count": null,
   "metadata": {},
   "outputs": [],
   "source": []
  }
 ],
 "metadata": {
  "kernelspec": {
   "display_name": "Python 2",
   "language": "python",
   "name": "python2"
  },
  "language_info": {
   "codemirror_mode": {
    "name": "ipython",
    "version": 3
   },
   "file_extension": ".py",
   "mimetype": "text/x-python",
   "name": "python",
   "nbconvert_exporter": "python",
   "pygments_lexer": "ipython3",
   "version": "3.6.3"
  }
 },
 "nbformat": 4,
 "nbformat_minor": 2
}
