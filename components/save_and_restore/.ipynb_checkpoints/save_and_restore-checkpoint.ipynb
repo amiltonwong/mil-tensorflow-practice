{
 "cells": [
  {
   "cell_type": "markdown",
   "metadata": {},
   "source": [
    "## Save and Restore\n",
    "- Save the paramters of a model to disk\n",
    "- Restore the paramters of a model from the checkpoint\n",
    "- Customized model initialization\n",
    "- How to finetune a model\n",
    "\n"
   ]
  },
  {
   "cell_type": "markdown",
   "metadata": {},
   "source": [
    "### Save the paramters of your model to disk."
   ]
  },
  {
   "cell_type": "code",
   "execution_count": 1,
   "metadata": {},
   "outputs": [
    {
     "name": "stderr",
     "output_type": "stream",
     "text": [
      "/root/anaconda3/envs/tf1.4_gpu/lib/python3.6/importlib/_bootstrap.py:219: RuntimeWarning: compiletime version 3.5 of module 'tensorflow.python.framework.fast_tensor_util' does not match runtime version 3.6\n",
      "  return f(*args, **kwds)\n",
      "/root/anaconda3/envs/tf1.4_gpu/lib/python3.6/site-packages/h5py/__init__.py:36: FutureWarning: Conversion of the second argument of issubdtype from `float` to `np.floating` is deprecated. In future, it will be treated as `np.float64 == np.dtype(float).type`.\n",
      "  from ._conv import register_converters as _register_converters\n"
     ]
    }
   ],
   "source": [
    "import tensorflow as tf\n",
    "from tensorflow.python.framework import ops\n",
    "import numpy as np\n",
    "tf.reset_default_graph()"
   ]
  },
  {
   "cell_type": "code",
   "execution_count": 24,
   "metadata": {},
   "outputs": [],
   "source": [
    "# model define\n",
    "def prelu(x, name = 'prelu'):\n",
    "    with tf.variable_scope(name):\n",
    "        alphas = tf.get_variable('alpha', x.get_shape()[-1], initializer=tf.constant_initializer(0.25), \n",
    "                                 regularizer = l2_regularizer, dtype = tf.float32)\n",
    "    pos = tf.nn.relu(x)\n",
    "    neg = tf.multiply(alphas,(x - abs(x)) * 0.5)\n",
    "    return pos + neg\n",
    "\n",
    "def first_conv(input, num_output, name):\n",
    "    with tf.variable_scope(name):\n",
    "        zero_init = tf.zeros_initializer()\n",
    "        network = tf.layers.conv2d(input, num_output, kernel_size = [3, 3], strides = (2, 2), \n",
    "                                   padding = 'same', kernel_initializer = xavier, bias_initializer = zero_init, \n",
    "                                   kernel_regularizer = l2_regularizer, bias_regularizer = l2_regularizer)\n",
    "        network = prelu(network, name = name)\n",
    "        return network\n",
    "\n",
    "def block(input, name, num_output):\n",
    "    with tf.variable_scope(name):\n",
    "        network = tf.layers.conv2d(input, num_output, kernel_size = [3, 3], strides = [1, 1], padding = 'same', \n",
    "                                   kernel_initializer = tf.random_normal_initializer(stddev=0.01), \n",
    "                                   use_bias = False , kernel_regularizer = l2_regularizer)\n",
    "        network = prelu(network, name = 'name'+ '1')\n",
    "        network = tf.layers.conv2d(network, num_output, kernel_size = [3, 3], strides = [1, 1], padding = 'same', \n",
    "                                   kernel_initializer = tf.random_normal_initializer(stddev=0.01), \n",
    "                                   use_bias = False, kernel_regularizer = l2_regularizer)\n",
    "        network = prelu(network, name = 'name'+ '2')\n",
    "        network = tf.add(input, network)\n",
    "        return network\n",
    "l2_regularizer= tf.contrib.layers.l2_regularizer(1.0)\n",
    "xavier = tf.contrib.layers.xavier_initializer_conv2d() \n",
    "\n",
    "def get_shape(tensor):\n",
    "    static_shape = tensor.shape.as_list()\n",
    "    dynamic_shape = tf.unstack(tf.shape(tensor))\n",
    "    dims = [s[1] if s[0] is None else s[0] for s in zip(static_shape,dynamic_shape)]\n",
    "    return dims\n",
    "\n",
    "def infer(input,embedding_size=512):\n",
    "    with tf.variable_scope('conv1_'):\n",
    "        network = first_conv(input, 64, name = 'conv1')\n",
    "        network = block(network, 'conv1_23', 64)\n",
    "    with tf.variable_scope('conv2_'):\n",
    "        network = first_conv(network, 128, name = 'conv2')\n",
    "        network = block(network, 'conv2_23', 128)\n",
    "        network = block(network, 'conv2_45', 128)\n",
    "    with tf.variable_scope('conv3_'):\n",
    "        network = first_conv(network, 256, name = 'conv3')\n",
    "        network = block(network, 'conv3_23', 256)\n",
    "        network = block(network, 'conv3_45', 256)\n",
    "        network = block(network, 'conv3_67', 256)\n",
    "        network = block(network, 'conv3_89', 256)\n",
    "    with tf.variable_scope('conv4_'):\n",
    "        network = first_conv(network, 512, name = 'conv4')\n",
    "        network = block(network, 'conv4_23', 512)\n",
    "    with tf.variable_scope('feature'):\n",
    "        #BATCH_SIZE = network.get_shape()[0]\n",
    "        dims = get_shape(network) # [1, 7, 6, 512]\n",
    "        #print(dims)\n",
    "        #BATCH_SIZE = tf.shape(network)[0]\n",
    "        #feature = tf.layers.dense(tf.reshape(network,[BATCH_SIZE, -1]), 512, kernel_regularizer = l2_regularizer, \n",
    "        #                          kernel_initializer = xavier)\n",
    "        feature = tf.layers.dense(inputs=tf.reshape(network,[dims[0], np.prod(dims[1:])]), units=embedding_size, \n",
    "                                  kernel_regularizer = l2_regularizer, kernel_initializer = xavier)\n",
    "    return feature"
   ]
  },
  {
   "cell_type": "code",
   "execution_count": 25,
   "metadata": {},
   "outputs": [],
   "source": [
    "# inference\n",
    "tf.reset_default_graph() # reset the default graph before constructing graph\n",
    "#image = tf.random_normal([1,112,96,3])\n",
    "#image = tf.constant(np.random.normal(size=[1,112,96,3]),dtype=tf.float32)\n",
    "img_init = np.random.normal(size=[1,112,96,3]) # create a random image as input\n",
    "image = tf.constant(img_init,dtype=tf.float32) #放入tf.constant\n",
    "with tf.variable_scope('sphere_net'):\n",
    "    feature = infer(image)"
   ]
  },
  {
   "cell_type": "code",
   "execution_count": 26,
   "metadata": {},
   "outputs": [
    {
     "name": "stdout",
     "output_type": "stream",
     "text": [
      "<tf.Variable 'sphere_net/conv1_/conv1/conv2d/kernel:0' shape=(3, 3, 3, 64) dtype=float32_ref>\n"
     ]
    }
   ],
   "source": [
    "vars = tf.global_variables() # 獲取全局變量\n",
    "print(vars[0])"
   ]
  },
  {
   "cell_type": "code",
   "execution_count": 27,
   "metadata": {},
   "outputs": [],
   "source": [
    "# loss\n",
    "pred = tf.layers.dense(feature,1,name='pred')\n",
    "#print(pred.get_shape())\n",
    "loss = tf.nn.l2_loss(pred-1)\n",
    "optimizer = tf.train.GradientDescentOptimizer(0.0001).minimize(loss)"
   ]
  },
  {
   "cell_type": "code",
   "execution_count": 30,
   "metadata": {},
   "outputs": [
    {
     "name": "stdout",
     "output_type": "stream",
     "text": [
      "0.5566992 [[-0.05517695]]\n",
      "0.013193842 [[0.83755714]]\n",
      "0.0002495511 [[0.9776594]]\n",
      "4.5427214e-06 [[0.9969858]]\n",
      "1.3147103e-07 [[0.9994872]]\n"
     ]
    }
   ],
   "source": [
    "# train and save model\n",
    "saver = tf.train.Saver()\n",
    "\n",
    "with tf.Session() as sess:\n",
    "    sess.run(tf.global_variables_initializer())\n",
    "    for i in range(500):\n",
    "        loss_np,pred_np,_ = sess.run([loss,pred,optimizer])\n",
    "        if i % 100 ==0:\n",
    "            print(loss_np,pred_np)\n",
    "            # save params to disk\n",
    "            saver.save(sess,'model/sphere',global_step=i,write_meta_graph=False)\n",
    "            pred_nd = sess.run(pred)\n",
    "            #print(pred_nd, \"\\n\")\n",
    "      "
   ]
  },
  {
   "cell_type": "code",
   "execution_count": 99,
   "metadata": {},
   "outputs": [
    {
     "name": "stdout",
     "output_type": "stream",
     "text": [
      "<class 'tensorflow.python.training.checkpoint_state_pb2.CheckpointState'>\n",
      "model/sphere-400\n",
      "Tensor(\"Const:0\", shape=(1, 112, 96, 3), dtype=float32)\n",
      "[1, 7, 6, 512]\n",
      "INFO:tensorflow:Restoring parameters from model/sphere-400\n",
      "[[ 0.99942195]]\n"
     ]
    }
   ],
   "source": [
    "# restore the model and test\n",
    "tf.reset_default_graph()\n",
    "ckpt = tf.train.get_checkpoint_state('model') # 指定模型所在的目錄路徑\"model\", read from directory \"model\"\n",
    "\n",
    "print(type(ckpt))\n",
    "print(ckpt.model_checkpoint_path)\n",
    "image = tf.constant(img_init,dtype=tf.float32)\n",
    "print(image)\n",
    "#image = tf.random_normal([1,112,96,3])\n",
    "#image = tf.constant(np.random.normal(size=[1,112,96,3]),dtype=tf.float32)\n",
    "with tf.variable_scope('sphere_net'):\n",
    "    feature = infer(image)\n",
    "pred = tf.layers.dense(feature,1,name='pred')\n",
    "saver = tf.train.Saver(tf.trainable_variables()) # 指定trainable_variables才恢復\n",
    "\n",
    "with tf.Session() as sess:\n",
    "    saver.restore(sess,ckpt.model_checkpoint_path) # 指定從哪個checkpoint file恢復\n",
    "    #saver.restore(sess,'model/sphere-100')\n",
    "    print(sess.run(pred)) # 使用讀取的weight，執行prediction"
   ]
  },
  {
   "cell_type": "markdown",
   "metadata": {},
   "source": [
    "## Customized model initialization"
   ]
  },
  {
   "cell_type": "code",
   "execution_count": 35,
   "metadata": {},
   "outputs": [
    {
     "name": "stdout",
     "output_type": "stream",
     "text": [
      "92\n"
     ]
    },
    {
     "data": {
      "text/plain": [
       "\"\\npred = tf.layers.dense(feature_left,1,name='pred')\\ndense_var = [var for var in tf.trainable_variables() if 'pred' in var.name]\\nprint(dense_var)\\nsaver = tf.train.Saver(tf.trainable_variables())\\ncheckpoint_utils.init_from_checkpoint('model/sphere-100',{'sphere_net/':'sphere_net_left/'})\\ncheckpoint_utils.init_from_checkpoint('model/sphere-100',{'sphere_net/':'sphere_net_right/'})\\ncheckpoint_utils.init_from_checkpoint('model/sphere-100',{'pred/':'pred/'})\\n\\nwith tf.Session() as sess:\\n    tf.global_variables_initializer().run(session=sess)\\n    #saver.restore(sess,ckpt.model_checkpoint_path)\\n    #saver.restore(sess,'model/sphere-100')\\n    print(sess.run(pred))\\n\""
      ]
     },
     "execution_count": 35,
     "metadata": {},
     "output_type": "execute_result"
    }
   ],
   "source": [
    "tf.reset_default_graph()\n",
    "from tensorflow.python.training import checkpoint_utils\n",
    "image = tf.constant(img_init,dtype=tf.float32)\n",
    "with tf.variable_scope('sphere_net_left'):\n",
    "    feature_left = infer(image)\n",
    "with tf.variable_scope('sphere_net_right'):\n",
    "    feature_right = infer(image)    \n",
    "#vars = tf.trainable_variables()\n",
    "#print(len(vars))\n",
    "#print(vars[1])\n",
    "pred = tf.layers.dense(feature_left,1,name='pred')\n",
    "dense_var = [var for var in tf.trainable_variables() if 'pred' in var.name]\n",
    "print(dense_var)\n",
    "saver = tf.train.Saver(tf.trainable_variables())\n",
    "checkpoint_utils.init_from_checkpoint('model/sphere-100',{'sphere_net/':'sphere_net_left/'})\n",
    "checkpoint_utils.init_from_checkpoint('model/sphere-100',{'sphere_net/':'sphere_net_right/'})\n",
    "checkpoint_utils.init_from_checkpoint('model/sphere-100',{'pred/':'pred/'})\n",
    "\n",
    "with tf.Session() as sess:\n",
    "    tf.global_variables_initializer().run(session=sess)\n",
    "    #saver.restore(sess,ckpt.model_checkpoint_path)\n",
    "    #saver.restore(sess,'model/sphere-100')\n",
    "    print(sess.run(pred))\n"
   ]
  },
  {
   "cell_type": "markdown",
   "metadata": {},
   "source": [
    "## Finetune your model"
   ]
  },
  {
   "cell_type": "code",
   "execution_count": 45,
   "metadata": {},
   "outputs": [
    {
     "name": "stdout",
     "output_type": "stream",
     "text": [
      "[<tf.Variable 'pred_new/kernel:0' shape=(512, 1) dtype=float32_ref>, <tf.Variable 'pred_new/bias:0' shape=(1,) dtype=float32_ref>]\n",
      "INFO:tensorflow:Restoring parameters from model/sphere-100\n",
      "0.40562248 [[0.09930862]]\n",
      "[[0.10302769]]\n",
      "0.17730841 [[0.40450284]]\n",
      "[[0.4069617]]\n",
      "0.07750623 [[0.6062838]]\n",
      "[[0.60790944]]\n",
      "0.03388004 [[0.73969233]]\n",
      "[[0.7407671]]\n",
      "0.014809893 [[0.827896]]\n",
      "[[0.8286067]]\n"
     ]
    }
   ],
   "source": [
    "tf.reset_default_graph()\n",
    "from tensorflow.python.training import checkpoint_utils\n",
    "image = tf.constant(img_init,dtype=tf.float32)\n",
    "with tf.variable_scope('sphere_net'):\n",
    "    feature_left = infer(image)\n",
    "#with tf.variable_scope('sphere_net_right'):\n",
    "#    feature_right = infer(image)\n",
    "pred = tf.layers.dense(feature_left,1,name='pred_new') # 若改了新的名字，當發現與之前訓練好的名字不同時，會報錯\n",
    "loss = tf.nn.l2_loss(pred-1)\n",
    "#optimizer = tf.train.GradientDescentOptimizer(0.0001).minimize(loss)\n",
    "optimizer = tf.train.GradientDescentOptimizer(0.001)\n",
    "dense_var = [var for var in tf.trainable_variables() if 'pred_new' in var.name]\n",
    "grads = optimizer.compute_gradients(loss,dense_var)\n",
    "train_op = optimizer.apply_gradients(grads)\n",
    "\n",
    "print(dense_var)\n",
    "saver_vars = [var for var in tf.trainable_variables() if 'pred_new' not in var.name]\n",
    "saver = tf.train.Saver(saver_vars) # 指定saver_vars變量進行恢復\n",
    "#saver = tf.train.Saver(tf.trainable_variables()) # 指定對所有可訓練(trainable) 變量進行恢復\n",
    "#checkpoint_utils.init_from_checkpoint('model/sphere-100',{'sphere_net/':'sphere_net_left/'})\n",
    "#checkpoint_utils.init_from_checkpoint('model/sphere-100',{'sphere_net/':'sphere_net_right/'})\n",
    "#checkpoint_utils.init_from_checkpoint('model/sphere-100',{'pred/':'pred/'})\n",
    "\n",
    "with tf.Session() as sess:\n",
    "    tf.global_variables_initializer().run(session=sess)\n",
    "    #saver.restore(sess,ckpt.model_checkpoint_path)\n",
    "    saver.restore(sess,'model/sphere-100')\n",
    "    for i in range(500):\n",
    "        loss_np,pred_np,_ = sess.run([loss,pred,train_op])\n",
    "        if i % 100 ==0:\n",
    "            print(loss_np,pred_np)\n",
    "            #saver.save(sess,'model/sphere',global_step=i,write_meta_graph=False)\n",
    "            pred_nd = sess.run(pred)\n",
    "            print(pred_nd)\n",
    "      "
   ]
  },
  {
   "cell_type": "code",
   "execution_count": null,
   "metadata": {},
   "outputs": [],
   "source": []
  }
 ],
 "metadata": {
  "kernelspec": {
   "display_name": "Python 2",
   "language": "python",
   "name": "python2"
  },
  "language_info": {
   "codemirror_mode": {
    "name": "ipython",
    "version": 3
   },
   "file_extension": ".py",
   "mimetype": "text/x-python",
   "name": "python",
   "nbconvert_exporter": "python",
   "pygments_lexer": "ipython3",
   "version": "3.6.3"
  }
 },
 "nbformat": 4,
 "nbformat_minor": 2
}
