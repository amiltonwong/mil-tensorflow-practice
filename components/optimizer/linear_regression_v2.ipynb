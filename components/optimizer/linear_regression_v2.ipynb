{
 "cells": [
  {
   "cell_type": "markdown",
   "metadata": {},
   "source": [
    "# Linear Regression Example\n",
    "\n",
    "A linear regression learning algorithm example using TensorFlow library.\n"
   ]
  },
  {
   "cell_type": "code",
   "execution_count": 65,
   "metadata": {},
   "outputs": [],
   "source": [
    "import tensorflow as tf\n",
    "import numpy\n",
    "import matplotlib.pyplot as plt\n",
    "import time\n",
    "rng = numpy.random"
   ]
  },
  {
   "cell_type": "code",
   "execution_count": 21,
   "metadata": {},
   "outputs": [],
   "source": [
    "# Parameters\n",
    "learning_rate = 0.01\n",
    "training_epochs = 1000\n",
    "display_step = 50"
   ]
  },
  {
   "cell_type": "code",
   "execution_count": 22,
   "metadata": {},
   "outputs": [],
   "source": [
    "# Training Data\n",
    "train_X = numpy.asarray([3.3,4.4,5.5,6.71,6.93,4.168,9.779,6.182,7.59,2.167,\n",
    "                         7.042,10.791,5.313,7.997,5.654,9.27,3.1])\n",
    "train_Y = numpy.asarray([1.7,2.76,2.09,3.19,1.694,1.573,3.366,2.596,2.53,1.221,\n",
    "                         2.827,3.465,1.65,2.904,2.42,2.94,1.3])\n",
    "n_samples = train_X.shape[0]\n"
   ]
  },
  {
   "cell_type": "code",
   "execution_count": 23,
   "metadata": {},
   "outputs": [
    {
     "data": {
      "text/plain": [
       "[<matplotlib.lines.Line2D at 0x7fb607e21e10>]"
      ]
     },
     "execution_count": 23,
     "metadata": {},
     "output_type": "execute_result"
    },
    {
     "data": {
      "image/png": "[encoded data removed]",
      "text/plain": [
       "<matplotlib.figure.Figure at 0x7fb5a9d0ce90>"
      ]
     },
     "metadata": {},
     "output_type": "display_data"
    }
   ],
   "source": [
    "#show data\n",
    "plt.plot(train_X, train_Y, 'ro', label='Original data')"
   ]
  },
  {
   "cell_type": "markdown",
   "metadata": {},
   "source": [
    "## Learn a linear regression to fit the dataset\n",
    "y_pred = w*x+b\n",
    "\n",
    "We learn w and b from the dataset"
   ]
  },
  {
   "cell_type": "markdown",
   "metadata": {},
   "source": [
    "## Two phase to write your tf program\n",
    "### Build a model (assemble a graph)\n",
    "1. Define placeholders for input and output (label)\n",
    "2. Define the weight\n",
    "3. Define the inference model\n",
    "4. Define loss function\n",
    "5. Define optimizer\n",
    "\n",
    "### Training (Use a session to execute operations in the graph)\n",
    "1. Initialize model parameters\n",
    "2. Input training data\n",
    "3. Execute inference model on training data\n",
    "4. Compute loss\n",
    "5. Adust mode parameters to minimize the loss\n",
    "6. Repeat 2->5 util loss convergence\n",
    "\n"
   ]
  },
  {
   "cell_type": "markdown",
   "metadata": {},
   "source": [
    "### linear regression v1"
   ]
  },
  {
   "cell_type": "code",
   "execution_count": 93,
   "metadata": {},
   "outputs": [
    {
     "data": {
      "text/plain": [
       "<tensorflow.python.summary.writer.writer.FileWriter at 0x7fb5aa7f2450>"
      ]
     },
     "execution_count": 93,
     "metadata": {},
     "output_type": "execute_result"
    }
   ],
   "source": [
    "tf.reset_default_graph()\n",
    "# define the input by placeholder\n",
    "with tf.name_scope('inputs'):\n",
    "    x = tf.placeholder(tf.float32,name='x')\n",
    "    y = tf.placeholder(tf.float32,name='y')\n",
    "# define the weight\n",
    "# represent the learnable paramters by tf.placeholder\n",
    "with tf.variable_scope('params'):\n",
    "    w = tf.placeholder(tf.float32,name='w')\n",
    "    b = tf.placeholder(tf.float32,name='b')\n",
    "# construct inference model\n",
    "with tf.name_scope('inference'):\n",
    "    y_pred = tf.multiply(w,x) + b\n",
    "# Mean squared error as loss function\n",
    "with tf.name_scope('loss'):\n",
    "    cost = tf.reduce_sum(tf.pow(y_pred-y, 2))/(2*n_samples)\n",
    "with tf.name_scope('grads'):\n",
    "    grad_w,grad_b = tf.gradients(cost,[w,b])\n",
    "tf.summary.FileWriter('linear_model_v1',tf.get_default_graph())"
   ]
  },
  {
   "cell_type": "code",
   "execution_count": 94,
   "metadata": {},
   "outputs": [
    {
     "name": "stdout",
     "output_type": "stream",
     "text": [
      "Epoch: 0050 cost= 0.014461425 W= 0.145537480712 b= 1.55003869534\n",
      "Epoch: 0100 cost= 0.013435257 W= 0.151726171374 b= 1.50551772118\n",
      "Epoch: 0150 cost= 0.012504579 W= 0.157546773553 b= 1.46364462376\n",
      "Epoch: 0200 cost= 0.011659737 W= 0.163021221757 b= 1.4242619276\n",
      "Epoch: 0250 cost= 0.010892101 W= 0.168170064688 b= 1.38722145557\n",
      "Epoch: 0300 cost= 0.010193979 W= 0.173012688756 b= 1.35238397121\n",
      "Epoch: 0350 cost= 0.009558465 W= 0.17756728828 b= 1.31961846352\n",
      "Epoch: 0400 cost= 0.008979419 W= 0.181851029396 b= 1.28880167007\n",
      "Epoch: 0450 cost= 0.008451318 W= 0.185879975557 b= 1.25981760025\n",
      "Epoch: 0500 cost= 0.007969234 W= 0.189669311047 b= 1.23255753517\n",
      "Epoch: 0550 cost= 0.007528737 W= 0.193233266473 b= 1.20691859722\n",
      "Epoch: 0600 cost= 0.007125868 W= 0.196585267782 b= 1.1828045845\n",
      "Epoch: 0650 cost= 0.006757063 W= 0.199737906456 b= 1.16012465954\n",
      "Epoch: 0700 cost= 0.006419138 W= 0.202703043818 b= 1.13879370689\n",
      "Epoch: 0750 cost= 0.006109224 W= 0.205491825938 b= 1.11873137951\n",
      "Epoch: 0800 cost= 0.005824737 W= 0.208114758134 b= 1.0998622179\n",
      "Epoch: 0850 cost= 0.005563359 W= 0.210581675172 b= 1.08211541176\n",
      "Epoch: 0900 cost= 0.005323000 W= 0.212901875377 b= 1.06542396545\n",
      "Epoch: 0950 cost= 0.005101782 W= 0.215084090829 b= 1.04972529411\n",
      "Epoch: 1000 cost= 0.004898002 W= 0.217136517167 b= 1.03496026993\n",
      "Optimization Finished, spend time: 9.67348790169!\n",
      "{<tf.Tensor 'params/w:0' shape=<unknown> dtype=float32>: 0.21713652121989271, <tf.Tensor 'params/b:0' shape=<unknown> dtype=float32>: 1.034960279819704, <tf.Tensor 'inputs/x:0' shape=<unknown> dtype=float32>: array([  3.3  ,   4.4  ,   5.5  ,   6.71 ,   6.93 ,   4.168,   9.779,\n",
      "         6.182,   7.59 ,   2.167,   7.042,  10.791,   5.313,   7.997,\n",
      "         5.654,   9.27 ,   3.1  ]), <tf.Tensor 'inputs/y:0' shape=<unknown> dtype=float32>: array([ 1.7  ,  2.76 ,  2.09 ,  3.19 ,  1.694,  1.573,  3.366,  2.596,\n",
      "        2.53 ,  1.221,  2.827,  3.465,  1.65 ,  2.904,  2.42 ,  2.94 ,  1.3  ])}\n",
      "Training cost= 0.080417 w= 0.217136517167 b= 1.03496026993 \n",
      "\n"
     ]
    },
    {
     "data": {
      "image/png": "[encoded data removed]",
      "text/plain": [
       "<matplotlib.figure.Figure at 0x7fb5f4089d50>"
      ]
     },
     "metadata": {},
     "output_type": "display_data"
    }
   ],
   "source": [
    "# compute\n",
    "# Start training\n",
    "with tf.Session() as sess:\n",
    "    values = {w:rng.randn(),b:rng.randn()}\n",
    "    # Fit all training data\n",
    "    t_start = time.time()\n",
    "    for epoch in range(training_epochs):\n",
    "        for (X, Y) in zip(train_X, train_Y):\n",
    "            values[x] = X\n",
    "            values[y] = Y\n",
    "            #compute the gradients\n",
    "            cost_np,grad_w_np,grad_b_np = sess.run([cost,grad_w,grad_b], feed_dict=values)\n",
    "            #update the parameters\n",
    "            values[w] -= learning_rate * grad_w_np\n",
    "            values[b] -= learning_rate * grad_b_np\n",
    "\n",
    "        #Display logs per epoch step\n",
    "        #print (epoch+1) % display_step\n",
    "        #print values\n",
    "        if (epoch+1) % display_step == 0:\n",
    "            c = sess.run(cost, feed_dict=values)\n",
    "            print \"Epoch:\", '%04d' % (epoch+1), \"cost=\", \"{:.9f}\".format(c), \\\n",
    "                \"W=\", sess.run(w,feed_dict=values), \"b=\", sess.run(b,feed_dict=values)\n",
    "\n",
    "    print \"Optimization Finished, spend time: {}!\".format(time.time()-t_start)\n",
    "    values[x] = train_X\n",
    "    values[y] = train_Y\n",
    "    print values\n",
    "    training_cost = sess.run(cost, feed_dict=values)\n",
    "    print \"Training cost=\", training_cost, \"w=\", sess.run(w,feed_dict=values), \"b=\", sess.run(b,feed_dict=values), '\\n'\n",
    "\n",
    "    #Graphic display\n",
    "    plt.plot(train_X, train_Y, 'ro', label='Original data')\n",
    "    plt.plot(train_X, sess.run(w,feed_dict=values) * train_X + sess.run(b,feed_dict=values), label='Fitted line')\n",
    "    plt.legend()\n",
    "    plt.show()\n"
   ]
  },
  {
   "cell_type": "markdown",
   "metadata": {},
   "source": [
    "## linear regression v2"
   ]
  },
  {
   "cell_type": "code",
   "execution_count": 95,
   "metadata": {},
   "outputs": [
    {
     "data": {
      "text/plain": [
       "<tensorflow.python.summary.writer.writer.FileWriter at 0x7fb5d2d22a90>"
      ]
     },
     "execution_count": 95,
     "metadata": {},
     "output_type": "execute_result"
    }
   ],
   "source": [
    "tf.reset_default_graph()\n",
    "# define the input by placeholder\n",
    "with tf.name_scope('inputs'):\n",
    "    x = tf.placeholder(tf.float32,name='x')\n",
    "    y = tf.placeholder(tf.float32,name='y')\n",
    "# define the weight\n",
    "# represent the learnable paramters by tf.placeholder\n",
    "with tf.variable_scope('params'):\n",
    "    w = tf.Variable(rng.randn(),name='w')\n",
    "    b = tf.Variable(rng.randn(),name='b')\n",
    "# construct inference model\n",
    "with tf.name_scope('inference'):\n",
    "    y_pred = tf.multiply(w,x) + b\n",
    "# Mean squared error as loss function\n",
    "with tf.name_scope('loss'):\n",
    "    cost = tf.reduce_sum(tf.pow(y_pred-y, 2))/(2*n_samples)\n",
    "with tf.name_scope('grads'):\n",
    "    grad_w,grad_b = tf.gradients(cost,[w,b])\n",
    "with tf.name_scope('update_params'):\n",
    "    new_w = w.assign(w-learning_rate*grad_w)\n",
    "    new_b = w.assign(b-learning_rate*grad_b)\n",
    "init = tf.global_variables_initializer()\n",
    "tf.summary.FileWriter('linear_model_v2',tf.get_default_graph())"
   ]
  },
  {
   "cell_type": "markdown",
   "metadata": {},
   "source": [
    "v3"
   ]
  },
  {
   "cell_type": "code",
   "execution_count": null,
   "metadata": {},
   "outputs": [],
   "source": []
  },
  {
   "cell_type": "code",
   "execution_count": 96,
   "metadata": {},
   "outputs": [
    {
     "name": "stdout",
     "output_type": "stream",
     "text": [
      "Epoch: 0050 cost= 0.074008882 W= 1.13409 b= -0.629385\n",
      "Epoch: 0100 cost= 0.074008882 W= 1.13409 b= -0.629385\n",
      "Epoch: 0150 cost= 0.074008882 W= 1.13409 b= -0.629385\n",
      "Epoch: 0200 cost= 0.074008882 W= 1.13409 b= -0.629385\n",
      "Epoch: 0250 cost= 0.074008882 W= 1.13409 b= -0.629385\n",
      "Epoch: 0300 cost= 0.074008882 W= 1.13409 b= -0.629385\n",
      "Epoch: 0350 cost= 0.074008882 W= 1.13409 b= -0.629385\n",
      "Epoch: 0400 cost= 0.074008882 W= 1.13409 b= -0.629385\n",
      "Epoch: 0450 cost= 0.074008882 W= 1.13409 b= -0.629385\n",
      "Epoch: 0500 cost= 0.074008882 W= 1.13409 b= -0.629385\n",
      "Epoch: 0550 cost= 0.074008882 W= 1.13409 b= -0.629385\n",
      "Epoch: 0600 cost= 0.074008882 W= 1.13409 b= -0.629385\n",
      "Epoch: 0650 cost= 0.074008882 W= 1.13409 b= -0.629385\n",
      "Epoch: 0700 cost= 0.074008882 W= 1.13409 b= -0.629385\n",
      "Epoch: 0750 cost= 0.074008882 W= 1.13409 b= -0.629385\n",
      "Epoch: 0800 cost= 0.074008882 W= 1.13409 b= -0.629385\n",
      "Epoch: 0850 cost= 0.074008882 W= 1.13409 b= -0.629385\n",
      "Epoch: 0900 cost= 0.074008882 W= 1.13409 b= -0.629385\n",
      "Epoch: 0950 cost= 0.074008882 W= 1.13409 b= -0.629385\n",
      "Epoch: 1000 cost= 0.074008882 W= 1.13409 b= -0.629385\n",
      "Optimization Finished, spend time: 6.27559089661!\n",
      "Training cost= 10.4881 w= 1.13409 b= -0.629385 \n",
      "\n"
     ]
    },
    {
     "data": {
      "image/png": "[encoded data removed]",
      "text/plain": [
       "<matplotlib.figure.Figure at 0x7fb5d376f410>"
      ]
     },
     "metadata": {},
     "output_type": "display_data"
    }
   ],
   "source": [
    "# compute\n",
    "# Start training\n",
    "\n",
    "with tf.Session() as sess:\n",
    "    sess.run(init)\n",
    "    # Fit all training data\n",
    "    t_start = time.time()\n",
    "    values = {}\n",
    "    for epoch in range(training_epochs):\n",
    "        for (X, Y) in zip(train_X, train_Y):\n",
    "            values[x] = X\n",
    "            values[y] = Y\n",
    "            #compute the gradients\n",
    "            cost_np = sess.run([cost], feed_dict=values)\n",
    "            #update the parameters\n",
    "            #values[w] -= learning_rate * grad_w_np\n",
    "            #values[b] -= learning_rate * grad_b_np\n",
    "\n",
    "        #Display logs per epoch step\n",
    "        #print (epoch+1) % display_step\n",
    "        #print values\n",
    "        if (epoch+1) % display_step == 0:\n",
    "            c = sess.run(cost, feed_dict=values)\n",
    "            print \"Epoch:\", '%04d' % (epoch+1), \"cost=\", \"{:.9f}\".format(c), \\\n",
    "                \"W=\", sess.run(w), \"b=\", sess.run(b)\n",
    "\n",
    "    print \"Optimization Finished, spend time: {}!\".format(time.time()-t_start)\n",
    "    values[x] = train_X\n",
    "    values[y] = train_Y\n",
    "  \n",
    "    training_cost = sess.run(cost, feed_dict=values)\n",
    "    print \"Training cost=\", training_cost, \"w=\", sess.run(w,feed_dict=values), \"b=\", sess.run(b,feed_dict=values), '\\n'\n",
    "\n",
    "    #Graphic display\n",
    "    plt.plot(train_X, train_Y, 'ro', label='Original data')\n",
    "    plt.plot(train_X, sess.run(w,feed_dict=values) * train_X + sess.run(b,feed_dict=values), label='Fitted line')\n",
    "    plt.legend()\n",
    "    plt.show()"
   ]
  },
  {
   "cell_type": "code",
   "execution_count": 116,
   "metadata": {},
   "outputs": [
    {
     "name": "stdout",
     "output_type": "stream",
     "text": [
      "Tensor(\"update_params/Assign:0\", shape=(), dtype=float32_ref) Tensor(\"update_params/Assign_1:0\", shape=(), dtype=float32_ref)\n",
      "name: \"update_params/group_deps\"\n",
      "op: \"NoOp\"\n",
      "input: \"^update_params/Assign\"\n",
      "input: \"^update_params/Assign_1\"\n",
      "\n"
     ]
    },
    {
     "data": {
      "text/plain": [
       "<tensorflow.python.summary.writer.writer.FileWriter at 0x7fb5a934ae50>"
      ]
     },
     "execution_count": 116,
     "metadata": {},
     "output_type": "execute_result"
    }
   ],
   "source": [
    "tf.reset_default_graph()\n",
    "# define the input by placeholder\n",
    "with tf.name_scope('inputs'):\n",
    "    x = tf.placeholder(tf.float32,name='x')\n",
    "    y = tf.placeholder(tf.float32,name='y')\n",
    "# define the weight\n",
    "# represent the learnable paramters by tf.placeholder\n",
    "with tf.variable_scope('params'):\n",
    "    w = tf.Variable(rng.randn(),name='w')\n",
    "    b = tf.Variable(rng.randn(),name='b')\n",
    "# construct inference model\n",
    "with tf.name_scope('inference'):\n",
    "    y_pred = tf.multiply(w,x) + b\n",
    "# Mean squared error as loss function\n",
    "with tf.name_scope('loss'):\n",
    "    cost = tf.reduce_sum(tf.pow(y_pred-y, 2))/(2*n_samples)\n",
    "with tf.name_scope('grads'):\n",
    "    grad_w,grad_b = tf.gradients(cost,[w,b])\n",
    "with tf.name_scope('update_params'):\n",
    "    new_w = w.assign(w,w-learning_rate*grad_w)\n",
    "    new_b = b.assign(b,b-learning_rate*grad_b)\n",
    "    print new_w,new_b\n",
    "    updates = tf.group(new_w,new_b)\n",
    "    print updates\n",
    "init = tf.global_variables_initializer()\n",
    "tf.summary.FileWriter('linear_model_v2',tf.get_default_graph())"
   ]
  },
  {
   "cell_type": "code",
   "execution_count": 119,
   "metadata": {},
   "outputs": [
    {
     "name": "stdout",
     "output_type": "stream",
     "text": [
      "0.0016058\n",
      "Epoch: 0050 cost= 0.001605799 W= 0.373892 b= -0.0927243\n",
      "0.00121676\n",
      "Epoch: 0100 cost= 0.001216758 W= 0.366499 b= -0.0395425\n",
      "0.000900023\n",
      "Epoch: 0150 cost= 0.000900023 W= 0.359546 b= 0.0104763\n",
      "0.00064562\n",
      "Epoch: 0200 cost= 0.000645620 W= 0.353007 b= 0.0575203\n",
      "0.000444823\n",
      "Epoch: 0250 cost= 0.000444823 W= 0.346856 b= 0.101766\n",
      "0.000289999\n",
      "Epoch: 0300 cost= 0.000289999 W= 0.341072 b= 0.143381\n",
      "0.000174491\n",
      "Epoch: 0350 cost= 0.000174491 W= 0.335631 b= 0.18252\n",
      "9.24828e-05\n",
      "Epoch: 0400 cost= 0.000092483 W= 0.330514 b= 0.219332\n",
      "3.89099e-05\n",
      "Epoch: 0450 cost= 0.000038910 W= 0.325701 b= 0.253954\n",
      "9.36166e-06\n",
      "Epoch: 0500 cost= 0.000009362 W= 0.321175 b= 0.286518\n",
      "4.99794e-09\n",
      "Epoch: 0550 cost= 0.000000005 W= 0.316917 b= 0.317144\n",
      "7.51083e-06\n",
      "Epoch: 0600 cost= 0.000007511 W= 0.312913 b= 0.345949\n",
      "2.89944e-05\n",
      "Epoch: 0650 cost= 0.000028994 W= 0.309147 b= 0.373041\n",
      "6.19608e-05\n",
      "Epoch: 0700 cost= 0.000061961 W= 0.305605 b= 0.398522\n",
      "0.000104252\n",
      "Epoch: 0750 cost= 0.000104252 W= 0.302274 b= 0.422486\n",
      "0.000154013\n",
      "Epoch: 0800 cost= 0.000154013 W= 0.299141 b= 0.445026\n",
      "0.000209648\n",
      "Epoch: 0850 cost= 0.000209648 W= 0.296194 b= 0.466226\n",
      "0.000269785\n",
      "Epoch: 0900 cost= 0.000269785 W= 0.293422 b= 0.486164\n",
      "0.000333256\n",
      "Epoch: 0950 cost= 0.000333256 W= 0.290816 b= 0.504917\n",
      "0.000399064\n",
      "Epoch: 1000 cost= 0.000399064 W= 0.288364 b= 0.522554\n",
      "Optimization Finished, spend time: 7.63076090813!\n",
      "Training cost= 0.0817527 w= 0.288364 b= 0.522554 \n",
      "\n"
     ]
    },
    {
     "data": {
      "image/png": "[encoded data removed]",
      "text/plain": [
       "<matplotlib.figure.Figure at 0x7fb5a946ec10>"
      ]
     },
     "metadata": {},
     "output_type": "display_data"
    }
   ],
   "source": [
    "# compute\n",
    "# Start training\n",
    "\n",
    "with tf.Session() as sess:\n",
    "    sess.run(init)\n",
    "    # Fit all training data\n",
    "    t_start = time.time()\n",
    "    values = {}\n",
    "    for epoch in range(training_epochs):\n",
    "        for (X, Y) in zip(train_X, train_Y):\n",
    "            values[x] = X\n",
    "            values[y] = Y\n",
    "            #compute the gradients\n",
    "            cost_np,_ = sess.run([cost,updates], feed_dict=values)\n",
    "            #print(w_np,b_np)\n",
    "            #print cost_np\n",
    "            #update the parameters\n",
    "            #values[w] -= learning_rate * grad_w_np\n",
    "            #values[b] -= learning_rate * grad_b_np\n",
    "\n",
    "        #Display logs per epoch step\n",
    "        #print (epoch+1) % display_step\n",
    "        #print values\n",
    "        if (epoch+1) % display_step == 0:\n",
    "            c = sess.run(cost, feed_dict=values)\n",
    "            print(c)\n",
    "            print \"Epoch:\", '%04d' % (epoch+1), \"cost=\", \"{:.9f}\".format(c), \\\n",
    "                \"W=\", sess.run(w), \"b=\", sess.run(b)\n",
    "\n",
    "    print \"Optimization Finished, spend time: {}!\".format(time.time()-t_start)\n",
    "    values[x] = train_X\n",
    "    values[y] = train_Y\n",
    "  \n",
    "    training_cost = sess.run(cost, feed_dict=values)\n",
    "    print \"Training cost=\", training_cost, \"w=\", sess.run(w,feed_dict=values), \"b=\", sess.run(b,feed_dict=values), '\\n'\n",
    "\n",
    "    #Graphic display\n",
    "    plt.plot(train_X, train_Y, 'ro', label='Original data')\n",
    "    plt.plot(train_X, sess.run(w,feed_dict=values) * train_X + sess.run(b,feed_dict=values), label='Fitted line')\n",
    "    plt.legend()\n",
    "    plt.show()"
   ]
  },
  {
   "cell_type": "code",
   "execution_count": 69,
   "metadata": {},
   "outputs": [],
   "source": [
    "tf.reset_default_graph()\n",
    "# tf Graph Input\n",
    "X = tf.placeholder(\"float\")\n",
    "Y = tf.placeholder(\"float\")\n",
    "\n",
    "# Set model weights\n",
    "W = tf.Variable(rng.randn(), name=\"weight\")\n",
    "b = tf.Variable(rng.randn(), name=\"bias\")"
   ]
  },
  {
   "cell_type": "code",
   "execution_count": 70,
   "metadata": {},
   "outputs": [],
   "source": [
    "# Construct a linear model\n",
    "pred = tf.add(tf.multiply(X, W), b)"
   ]
  },
  {
   "cell_type": "code",
   "execution_count": 71,
   "metadata": {},
   "outputs": [],
   "source": [
    "# Mean squared error\n",
    "cost = tf.reduce_sum(tf.pow(pred-Y, 2))/(2*n_samples)\n",
    "# Gradient descent\n",
    "optimizer = tf.train.GradientDescentOptimizer(learning_rate).minimize(cost)"
   ]
  },
  {
   "cell_type": "code",
   "execution_count": 72,
   "metadata": {},
   "outputs": [],
   "source": [
    "# Initialize the variables (i.e. assign their default value)\n",
    "init = tf.global_variables_initializer()"
   ]
  },
  {
   "cell_type": "code",
   "execution_count": 74,
   "metadata": {},
   "outputs": [
    {
     "name": "stdout",
     "output_type": "stream",
     "text": [
      "Epoch: 0050 cost= 0.293763399 W= 0.509838 b= -1.07071\n",
      "Epoch: 0100 cost= 0.268723488 W= 0.49436 b= -0.959364\n",
      "Epoch: 0150 cost= 0.246574596 W= 0.479802 b= -0.854638\n",
      "Epoch: 0200 cost= 0.226983175 W= 0.466111 b= -0.756141\n",
      "Epoch: 0250 cost= 0.209654212 W= 0.453233 b= -0.663503\n",
      "Epoch: 0300 cost= 0.194326237 W= 0.441122 b= -0.576374\n",
      "Epoch: 0350 cost= 0.180768371 W= 0.429731 b= -0.494428\n",
      "Epoch: 0400 cost= 0.168776065 W= 0.419017 b= -0.417355\n",
      "Epoch: 0450 cost= 0.158168808 W= 0.408941 b= -0.344866\n",
      "Epoch: 0500 cost= 0.148786604 W= 0.399464 b= -0.276688\n",
      "Epoch: 0550 cost= 0.140487984 W= 0.39055 b= -0.212565\n",
      "Epoch: 0600 cost= 0.133147866 W= 0.382167 b= -0.152256\n",
      "Epoch: 0650 cost= 0.126655579 W= 0.374282 b= -0.0955337\n",
      "Epoch: 0700 cost= 0.120913252 W= 0.366866 b= -0.0421848\n",
      "Epoch: 0750 cost= 0.115834273 W= 0.359891 b= 0.00799119\n",
      "Epoch: 0800 cost= 0.111342035 W= 0.353332 b= 0.055183\n",
      "Epoch: 0850 cost= 0.107368819 W= 0.347162 b= 0.0995681\n",
      "Epoch: 0900 cost= 0.103854656 W= 0.341359 b= 0.141313\n",
      "Epoch: 0950 cost= 0.100746587 W= 0.335901 b= 0.180576\n",
      "Epoch: 1000 cost= 0.097997658 W= 0.330768 b= 0.217503\n",
      "Optimization Finished, spend time: 7.76616692543!\n",
      "Training cost= 0.0979977 W= 0.330768 b= 0.217503 \n",
      "\n"
     ]
    },
    {
     "data": {
      "image/png": "[encoded data removed]",
      "text/plain": [
       "<matplotlib.figure.Figure at 0x7fb5d2d22b10>"
      ]
     },
     "metadata": {},
     "output_type": "display_data"
    }
   ],
   "source": [
    "# Start training\n",
    "with tf.Session() as sess:\n",
    "    t_start = time.time()\n",
    "    sess.run(init)\n",
    "\n",
    "    # Fit all training data\n",
    "    for epoch in range(training_epochs):\n",
    "        for (x, y) in zip(train_X, train_Y):\n",
    "            sess.run(optimizer, feed_dict={X: x, Y: y})\n",
    "\n",
    "        #Display logs per epoch step\n",
    "        if (epoch+1) % display_step == 0:\n",
    "            c = sess.run(cost, feed_dict={X: train_X, Y:train_Y})\n",
    "            print \"Epoch:\", '%04d' % (epoch+1), \"cost=\", \"{:.9f}\".format(c), \\\n",
    "                \"W=\", sess.run(W), \"b=\", sess.run(b)\n",
    "\n",
    "    print \"Optimization Finished, spend time: {}!\".format(time.time()-t_start)\n",
    "    training_cost = sess.run(cost, feed_dict={X: train_X, Y: train_Y})\n",
    "    print \"Training cost=\", training_cost, \"W=\", sess.run(W), \"b=\", sess.run(b), '\\n'\n",
    "\n",
    "    #Graphic display\n",
    "    plt.plot(train_X, train_Y, 'ro', label='Original data')\n",
    "    plt.plot(train_X, sess.run(W) * train_X + sess.run(b), label='Fitted line')\n",
    "    plt.legend()\n",
    "    plt.show()"
   ]
  },
  {
   "cell_type": "code",
   "execution_count": 9,
   "metadata": {},
   "outputs": [],
   "source": [
    "# Regression result"
   ]
  }
 ],
 "metadata": {
  "anaconda-cloud": {},
  "kernelspec": {
   "display_name": "Python 2",
   "language": "python",
   "name": "python2"
  },
  "language_info": {
   "codemirror_mode": {
    "name": "ipython",
    "version": 2
   },
   "file_extension": ".py",
   "mimetype": "text/x-python",
   "name": "python",
   "nbconvert_exporter": "python",
   "pygments_lexer": "ipython2",
   "version": "2.7.6"
  }
 },
 "nbformat": 4,
 "nbformat_minor": 1
}
