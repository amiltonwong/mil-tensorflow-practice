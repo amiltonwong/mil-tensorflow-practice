{
 "cells": [
  {
   "cell_type": "markdown",
   "metadata": {},
   "source": [
    "# Linear Regression Example\n",
    "\n",
    "A linear regression learning algorithm example using TensorFlow library.\n"
   ]
  },
  {
   "cell_type": "code",
   "execution_count": 1,
   "metadata": {},
   "outputs": [
    {
     "name": "stderr",
     "output_type": "stream",
     "text": [
      "/root/anaconda3/envs/tf1.4_gpu/lib/python3.6/importlib/_bootstrap.py:219: RuntimeWarning: compiletime version 3.5 of module 'tensorflow.python.framework.fast_tensor_util' does not match runtime version 3.6\n",
      "  return f(*args, **kwds)\n",
      "/root/anaconda3/envs/tf1.4_gpu/lib/python3.6/site-packages/h5py/__init__.py:36: FutureWarning: Conversion of the second argument of issubdtype from `float` to `np.floating` is deprecated. In future, it will be treated as `np.float64 == np.dtype(float).type`.\n",
      "  from ._conv import register_converters as _register_converters\n"
     ]
    }
   ],
   "source": [
    "import tensorflow as tf\n",
    "import numpy\n",
    "import matplotlib.pyplot as plt\n",
    "import time\n",
    "import os\n",
    "os.environ[\"CUDA_DEVICE_ORDER\"]='PCI_BUS_ID'\n",
    "os.environ[\"CUDA_VISIBLE_DEVICES\"]=\"1\"\n",
    "rng = numpy.random"
   ]
  },
  {
   "cell_type": "code",
   "execution_count": 2,
   "metadata": {},
   "outputs": [],
   "source": [
    "# Parameters\n",
    "learning_rate = 0.01\n",
    "training_epochs = 1000\n",
    "display_step = 50"
   ]
  },
  {
   "cell_type": "code",
   "execution_count": 3,
   "metadata": {},
   "outputs": [],
   "source": [
    "# Training Data\n",
    "train_X = numpy.asarray([3.3,4.4,5.5,6.71,6.93,4.168,9.779,6.182,7.59,2.167,\n",
    "                         7.042,10.791,5.313,7.997,5.654,9.27,3.1])\n",
    "train_Y = numpy.asarray([1.7,2.76,2.09,3.19,1.694,1.573,3.366,2.596,2.53,1.221,\n",
    "                         2.827,3.465,1.65,2.904,2.42,2.94,1.3])\n",
    "n_samples = train_X.shape[0]\n"
   ]
  },
  {
   "cell_type": "code",
   "execution_count": 4,
   "metadata": {},
   "outputs": [
    {
     "data": {
      "text/plain": [
       "[<matplotlib.lines.Line2D at 0x7fc58cce0240>]"
      ]
     },
     "execution_count": 4,
     "metadata": {},
     "output_type": "execute_result"
    },
    {
     "data": {
      "image/png": "[encoded data removed]",
      "text/plain": [
       "<matplotlib.figure.Figure at 0x7fc58cd46f28>"
      ]
     },
     "metadata": {},
     "output_type": "display_data"
    }
   ],
   "source": [
    "#show data\n",
    "plt.plot(train_X, train_Y, 'ro', label='Original data')"
   ]
  },
  {
   "cell_type": "markdown",
   "metadata": {},
   "source": [
    "## Learn a linear regression to fit the dataset\n",
    "y_pred = w*x+b\n",
    "\n",
    "We learn w and b from the dataset"
   ]
  },
  {
   "cell_type": "markdown",
   "metadata": {},
   "source": [
    "## Two phase to write your tf program\n",
    "### Build a model (assemble a graph)\n",
    "1. Define placeholders for input and output (label)\n",
    "2. Define the weight\n",
    "3. Define the inference model\n",
    "4. Define loss function\n",
    "5. Define optimizer\n",
    "\n",
    "### Training (Use a session to execute operations in the graph)\n",
    "1. Initialize model parameters\n",
    "2. Input training data\n",
    "3. Execute inference model on training data\n",
    "4. Compute loss\n",
    "5. Adust mode parameters to minimize the loss\n",
    "6. Repeat 2->5 util loss convergence\n",
    "\n"
   ]
  },
  {
   "cell_type": "markdown",
   "metadata": {},
   "source": [
    "### linear regression v1"
   ]
  },
  {
   "cell_type": "code",
   "execution_count": 5,
   "metadata": {},
   "outputs": [
    {
     "data": {
      "text/plain": [
       "<tensorflow.python.summary.writer.writer.FileWriter at 0x7fc58cd360b8>"
      ]
     },
     "execution_count": 5,
     "metadata": {},
     "output_type": "execute_result"
    }
   ],
   "source": [
    "tf.reset_default_graph()\n",
    "# define the input by placeholder\n",
    "with tf.name_scope('inputs'):\n",
    "    x = tf.placeholder(tf.float32,name='x')\n",
    "    y = tf.placeholder(tf.float32,name='y')\n",
    "# define the weight\n",
    "# represent the learnable paramters by tf.placeholder\n",
    "with tf.variable_scope('params'):\n",
    "    w = tf.placeholder(tf.float32,name='w')\n",
    "    b = tf.placeholder(tf.float32,name='b')\n",
    "# construct inference model\n",
    "with tf.name_scope('inference'):\n",
    "    y_pred = tf.multiply(w,x) + b\n",
    "# Mean squared error as loss function\n",
    "with tf.name_scope('loss'):\n",
    "    cost = tf.reduce_sum(tf.pow(y_pred-y, 2))/(2*n_samples)\n",
    "with tf.name_scope('grads'):\n",
    "    grad_w,grad_b = tf.gradients(cost,[w,b])\n",
    "tf.summary.FileWriter('linear_model_v1',tf.get_default_graph())"
   ]
  },
  {
   "cell_type": "code",
   "execution_count": 9,
   "metadata": {},
   "outputs": [
    {
     "name": "stdout",
     "output_type": "stream",
     "text": [
      "Epoch: 50 cost= 0.000028114 W= 0.3243687 b= 0.26353973\n",
      "Epoch: 100 cost= 0.000004752 W= 0.31992146 b= 0.29553282\n",
      "Epoch: 150 cost= 0.000000573 W= 0.3157387 b= 0.32562312\n",
      "Epoch: 200 cost= 0.000012383 W= 0.31180474 b= 0.35392383\n",
      "Epoch: 250 cost= 0.000037414 W= 0.30810475 b= 0.38054135\n",
      "Epoch: 300 cost= 0.000073273 W= 0.3046248 b= 0.4055758\n",
      "Epoch: 350 cost= 0.000117895 W= 0.30135185 b= 0.42912135\n",
      "Epoch: 400 cost= 0.000169500 W= 0.29827353 b= 0.45126653\n",
      "Epoch: 450 cost= 0.000226562 W= 0.2953783 b= 0.47209463\n",
      "Epoch: 500 cost= 0.000287772 W= 0.29265526 b= 0.491684\n",
      "Epoch: 550 cost= 0.000352012 W= 0.29009417 b= 0.5101083\n",
      "Epoch: 600 cost= 0.000418333 W= 0.2876854 b= 0.5274368\n",
      "Epoch: 650 cost= 0.000485929 W= 0.28541988 b= 0.54373467\n",
      "Epoch: 700 cost= 0.000554122 W= 0.2832891 b= 0.5590633\n",
      "Epoch: 750 cost= 0.000622346 W= 0.28128508 b= 0.57348025\n",
      "Epoch: 800 cost= 0.000690124 W= 0.27940023 b= 0.5870397\n",
      "Epoch: 850 cost= 0.000757069 W= 0.27762747 b= 0.5997928\n",
      "Epoch: 900 cost= 0.000822858 W= 0.27596015 b= 0.6117873\n",
      "Epoch: 950 cost= 0.000887237 W= 0.274392 b= 0.6230685\n",
      "Epoch: 1000 cost= 0.000949998 W= 0.27291712 b= 0.63367873\n",
      "Optimization Finished, spend time: 5.8704469203948975!\n",
      "{<tf.Tensor 'params/w:0' shape=<unknown> dtype=float32>: 0.27291710913300604, <tf.Tensor 'params/b:0' shape=<unknown> dtype=float32>: 0.633678748147401, <tf.Tensor 'inputs/x:0' shape=<unknown> dtype=float32>: array([ 3.3  ,  4.4  ,  5.5  ,  6.71 ,  6.93 ,  4.168,  9.779,  6.182,\n",
      "        7.59 ,  2.167,  7.042, 10.791,  5.313,  7.997,  5.654,  9.27 ,\n",
      "        3.1  ]), <tf.Tensor 'inputs/y:0' shape=<unknown> dtype=float32>: array([1.7  , 2.76 , 2.09 , 3.19 , 1.694, 1.573, 3.366, 2.596, 2.53 ,\n",
      "       1.221, 2.827, 3.465, 1.65 , 2.904, 2.42 , 2.94 , 1.3  ])}\n",
      "Training cost= 0.07870021 w= 0.27291712 b= 0.63367873 \n",
      "\n"
     ]
    },
    {
     "data": {
      "image/png": "[encoded data removed]",
      "text/plain": [
       "<matplotlib.figure.Figure at 0x7fc5882ff588>"
      ]
     },
     "metadata": {},
     "output_type": "display_data"
    }
   ],
   "source": [
    "# compute\n",
    "# Start training\n",
    "with tf.Session() as sess:\n",
    "    #initialize the w,b by random\n",
    "    values = {w:rng.randn(),b:rng.randn()} # value is dict\n",
    "    # Fit all training data\n",
    "    t_start = time.time()\n",
    "    for epoch in range(training_epochs):\n",
    "        for (X, Y) in zip(train_X, train_Y):\n",
    "            values[x] = X\n",
    "            values[y] = Y\n",
    "            #compute the gradients\n",
    "            cost_np,grad_w_np,grad_b_np = sess.run([cost,grad_w,grad_b], feed_dict=values)\n",
    "            #update the parameters\n",
    "            values[w] -= learning_rate * grad_w_np\n",
    "            values[b] -= learning_rate * grad_b_np\n",
    "\n",
    "        #Display logs per epoch step\n",
    "        #print (epoch+1) % display_step\n",
    "        #print values\n",
    "        if (epoch+1) % display_step == 0:\n",
    "            c = sess.run(cost, feed_dict=values)\n",
    "            print(\"Epoch:\", '{}'.format((epoch+1)), \"cost=\", \"{:.9f}\".format(c), \\\n",
    "                \"W=\", sess.run(w,feed_dict=values), \"b=\", sess.run(b,feed_dict=values))\n",
    "\n",
    "    print(\"Optimization Finished, spend time: {}!\".format(time.time()-t_start))\n",
    "    values[x] = train_X\n",
    "    values[y] = train_Y\n",
    "    print(values)\n",
    "    training_cost = sess.run(cost, feed_dict=values)\n",
    "    print(\"Training cost=\", training_cost, \"w=\", sess.run(w,feed_dict=values), \"b=\", sess.run(b,feed_dict=values), '\\n')\n",
    "\n",
    "    #Graphic display\n",
    "    plt.plot(train_X, train_Y, 'ro', label='Original data')\n",
    "    plt.plot(train_X, sess.run(w,feed_dict=values) * train_X + sess.run(b,feed_dict=values), label='Fitted line')\n",
    "    plt.legend()\n",
    "    plt.show()\n"
   ]
  },
  {
   "cell_type": "markdown",
   "metadata": {},
   "source": [
    "## linear regression v2"
   ]
  },
  {
   "cell_type": "code",
   "execution_count": 11,
   "metadata": {},
   "outputs": [
    {
     "data": {
      "text/plain": [
       "<tensorflow.python.summary.writer.writer.FileWriter at 0x7fc58820be10>"
      ]
     },
     "execution_count": 11,
     "metadata": {},
     "output_type": "execute_result"
    }
   ],
   "source": [
    "tf.reset_default_graph()\n",
    "# define the input by placeholder\n",
    "with tf.name_scope('inputs'):\n",
    "    x = tf.placeholder(tf.float32,name='x')\n",
    "    y = tf.placeholder(tf.float32,name='y')\n",
    "# define the weight\n",
    "# represent the learnable paramters by tf.Variable\n",
    "with tf.variable_scope('params'):\n",
    "    w = tf.Variable(rng.randn(),name='w')\n",
    "    b = tf.Variable(rng.randn(),name='b')\n",
    "# construct inference model\n",
    "with tf.name_scope('inference'):\n",
    "    y_pred = tf.multiply(w,x) + b\n",
    "# Mean squared error as loss function\n",
    "with tf.name_scope('loss'):\n",
    "    cost = tf.reduce_sum(tf.pow(y_pred-y, 2))/(2*n_samples)\n",
    "with tf.name_scope('grads'):\n",
    "    grad_w,grad_b = tf.gradients(cost,[w,b])\n",
    "with tf.name_scope('update_params'):\n",
    "    new_w = w.assign(w-learning_rate*grad_w)\n",
    "    new_b = b.assign(b-learning_rate*grad_b)\n",
    "init = tf.global_variables_initializer()\n",
    "tf.summary.FileWriter('linear_model_v2',tf.get_default_graph())"
   ]
  },
  {
   "cell_type": "markdown",
   "metadata": {},
   "source": [
    "v3"
   ]
  },
  {
   "cell_type": "code",
   "execution_count": null,
   "metadata": {},
   "outputs": [],
   "source": []
  },
  {
   "cell_type": "code",
   "execution_count": 13,
   "metadata": {},
   "outputs": [
    {
     "name": "stdout",
     "output_type": "stream",
     "text": [
      "Epoch: 50 cost=0.1280437856912613,  W=-0.10292968153953552,  b=-0.4674197733402252\n",
      "Epoch: 100 cost=0.1280437856912613,  W=-0.10292968153953552,  b=-0.4674197733402252\n",
      "Epoch: 150 cost=0.1280437856912613,  W=-0.10292968153953552,  b=-0.4674197733402252\n",
      "Epoch: 200 cost=0.1280437856912613,  W=-0.10292968153953552,  b=-0.4674197733402252\n",
      "Epoch: 250 cost=0.1280437856912613,  W=-0.10292968153953552,  b=-0.4674197733402252\n",
      "Epoch: 300 cost=0.1280437856912613,  W=-0.10292968153953552,  b=-0.4674197733402252\n",
      "Epoch: 350 cost=0.1280437856912613,  W=-0.10292968153953552,  b=-0.4674197733402252\n",
      "Epoch: 400 cost=0.1280437856912613,  W=-0.10292968153953552,  b=-0.4674197733402252\n",
      "Epoch: 450 cost=0.1280437856912613,  W=-0.10292968153953552,  b=-0.4674197733402252\n",
      "Epoch: 500 cost=0.1280437856912613,  W=-0.10292968153953552,  b=-0.4674197733402252\n",
      "Epoch: 550 cost=0.1280437856912613,  W=-0.10292968153953552,  b=-0.4674197733402252\n",
      "Epoch: 600 cost=0.1280437856912613,  W=-0.10292968153953552,  b=-0.4674197733402252\n",
      "Epoch: 650 cost=0.1280437856912613,  W=-0.10292968153953552,  b=-0.4674197733402252\n",
      "Epoch: 700 cost=0.1280437856912613,  W=-0.10292968153953552,  b=-0.4674197733402252\n",
      "Epoch: 750 cost=0.1280437856912613,  W=-0.10292968153953552,  b=-0.4674197733402252\n",
      "Epoch: 800 cost=0.1280437856912613,  W=-0.10292968153953552,  b=-0.4674197733402252\n",
      "Epoch: 850 cost=0.1280437856912613,  W=-0.10292968153953552,  b=-0.4674197733402252\n",
      "Epoch: 900 cost=0.1280437856912613,  W=-0.10292968153953552,  b=-0.4674197733402252\n",
      "Epoch: 950 cost=0.1280437856912613,  W=-0.10292968153953552,  b=-0.4674197733402252\n",
      "Epoch: 1000 cost=0.1280437856912613,  W=-0.10292968153953552,  b=-0.4674197733402252\n",
      "Optimization Finished, spend time: 3.4925942420959473!\n",
      "Training cost=6.458631992340088,  w=-0.10292968153953552,  b=-0.4674197733402252,  \n",
      "\n"
     ]
    },
    {
     "data": {
      "image/png": "[encoded data removed]",
      "text/plain": [
       "<matplotlib.figure.Figure at 0x7fc5882ff470>"
      ]
     },
     "metadata": {},
     "output_type": "display_data"
    }
   ],
   "source": [
    "# compute\n",
    "# Start training\n",
    "\n",
    "with tf.Session() as sess:\n",
    "    sess.run(init)\n",
    "    # Fit all training data\n",
    "    t_start = time.time()\n",
    "    values = {}\n",
    "    for epoch in range(training_epochs):\n",
    "        for (X, Y) in zip(train_X, train_Y):\n",
    "            values[x] = X\n",
    "            values[y] = Y\n",
    "            #compute the gradients\n",
    "            cost_np = sess.run([cost], feed_dict=values)\n",
    "            #update the parameters\n",
    "            #values[w] -= learning_rate * grad_w_np\n",
    "            #values[b] -= learning_rate * grad_b_np\n",
    "\n",
    "        #Display logs per epoch step\n",
    "        #print (epoch+1) % display_step\n",
    "        #print values\n",
    "        if (epoch+1) % display_step == 0:\n",
    "            c = sess.run(cost, feed_dict=values)\n",
    "            print(\"Epoch: {}\".format(epoch+1), \"cost={}, \".format(c), \\\n",
    "                \"W={}, \".format(sess.run(w)), \"b={}\".format(sess.run(b)))\n",
    "\n",
    "    print(\"Optimization Finished, spend time: {}!\".format(time.time()-t_start))\n",
    "    values[x] = train_X\n",
    "    values[y] = train_Y\n",
    "  \n",
    "    training_cost = sess.run(cost, feed_dict=values)\n",
    "    print(\"Training cost={}, \".format(training_cost), \"w={}, \".format(sess.run(w,feed_dict=values)), \"b={}, \".format(sess.run(b,feed_dict=values)), \"\\n\")\n",
    "\n",
    "    #Graphic display\n",
    "    plt.plot(train_X, train_Y, 'ro', label='Original data')\n",
    "    plt.plot(train_X, sess.run(w,feed_dict=values) * train_X + sess.run(b,feed_dict=values), label='Fitted line')\n",
    "    plt.legend()\n",
    "    plt.show()"
   ]
  },
  {
   "cell_type": "code",
   "execution_count": null,
   "metadata": {},
   "outputs": [],
   "source": [
    "# V3"
   ]
  },
  {
   "cell_type": "code",
   "execution_count": 16,
   "metadata": {},
   "outputs": [
    {
     "name": "stdout",
     "output_type": "stream",
     "text": [
      "Tensor(\"update_params/Assign:0\", shape=(), dtype=float32_ref) Tensor(\"update_params/Assign_1:0\", shape=(), dtype=float32_ref)\n",
      "name: \"update_params/group_deps\"\n",
      "op: \"NoOp\"\n",
      "input: \"^update_params/Assign\"\n",
      "input: \"^update_params/Assign_1\"\n",
      "\n"
     ]
    },
    {
     "data": {
      "text/plain": [
       "<tensorflow.python.summary.writer.writer.FileWriter at 0x7fc5707d6e80>"
      ]
     },
     "execution_count": 16,
     "metadata": {},
     "output_type": "execute_result"
    }
   ],
   "source": [
    "tf.reset_default_graph()\n",
    "# define the input by placeholder\n",
    "with tf.name_scope('inputs'):\n",
    "    x = tf.placeholder(tf.float32,name='x')\n",
    "    y = tf.placeholder(tf.float32,name='y')\n",
    "# define the weight\n",
    "# represent the learnable paramters by tf.placeholder\n",
    "with tf.variable_scope('params'):\n",
    "    w = tf.Variable(rng.randn(),name='w')\n",
    "    b = tf.Variable(rng.randn(),name='b')\n",
    "# construct inference model\n",
    "with tf.name_scope('inference'):\n",
    "    y_pred = tf.multiply(w,x) + b\n",
    "# Mean squared error as loss function\n",
    "with tf.name_scope('loss'):\n",
    "    cost = tf.reduce_sum(tf.pow(y_pred-y, 2))/(2*n_samples)\n",
    "with tf.name_scope('grads'):\n",
    "    grad_w,grad_b = tf.gradients(cost,[w,b])\n",
    "with tf.name_scope('update_params'):\n",
    "    new_w = w.assign(w-learning_rate*grad_w)\n",
    "    new_b = b.assign(b-learning_rate*grad_b)\n",
    "    print(new_w,new_b)\n",
    "    updates = tf.group(new_w,new_b)\n",
    "    print(updates)\n",
    "init = tf.global_variables_initializer()\n",
    "tf.summary.FileWriter('linear_model_v3',tf.get_default_graph())"
   ]
  },
  {
   "cell_type": "code",
   "execution_count": 18,
   "metadata": {},
   "outputs": [
    {
     "name": "stdout",
     "output_type": "stream",
     "text": [
      "Epoch: 50,  cost=0.0280658807605505,  W=0.5554265975952148,  b=-1.398674488067627\n",
      "Epoch: 100,  cost=0.0239499993622303,  W=0.537237286567688,  b=-1.2678213119506836\n",
      "Epoch: 150,  cost=0.0203766580671072,  W=0.5201297402381897,  b=-1.1447521448135376\n",
      "Epoch: 200,  cost=0.017279071733355522,  W=0.5040397644042969,  b=-1.029001235961914\n",
      "Epoch: 250,  cost=0.014598640613257885,  W=0.4889066517353058,  b=-0.920134425163269\n",
      "Epoch: 300,  cost=0.0122836884111166,  W=0.4746735692024231,  b=-0.8177429437637329\n",
      "Epoch: 350,  cost=0.0102886613458395,  W=0.4612869918346405,  b=-0.7214407920837402\n",
      "Epoch: 400,  cost=0.008573506958782673,  W=0.4486966133117676,  b=-0.6308662295341492\n",
      "Epoch: 450,  cost=0.007102992385625839,  W=0.4368550181388855,  b=-0.5456788539886475\n",
      "Epoch: 500,  cost=0.005846095271408558,  W=0.42571768164634705,  b=-0.4655580222606659\n",
      "Epoch: 550,  cost=0.004775538574904203,  W=0.4152427315711975,  b=-0.39020198583602905\n",
      "Epoch: 600,  cost=0.0038673649542033672,  W=0.40539079904556274,  b=-0.31932762265205383\n",
      "Epoch: 650,  cost=0.0031005365308374166,  W=0.39612480998039246,  b=-0.25266873836517334\n",
      "Epoch: 700,  cost=0.002456561429426074,  W=0.38740986585617065,  b=-0.18997423350811005\n",
      "Epoch: 750,  cost=0.001919218455441296,  W=0.37921327352523804,  b=-0.1310085952281952\n",
      "Epoch: 800,  cost=0.0014742740895599127,  W=0.37150418758392334,  b=-0.0755498930811882\n",
      "Epoch: 850,  cost=0.0011092632776126266,  W=0.36425358057022095,  b=-0.023389510810375214\n",
      "Epoch: 900,  cost=0.0008132598013617098,  W=0.3574341833591461,  b=0.025668632239103317\n",
      "Epoch: 950,  cost=0.0005766982794739306,  W=0.3510204255580902,  b=0.0718090608716011\n",
      "Epoch: 1000,  cost=0.00039121732697822154,  W=0.344988077878952,  b=0.11520528793334961\n",
      "Optimization Finished, spend time: 4.526657342910767!\n",
      "Training cost=0.10602715611457825,  w=0.344988077878952,  b=0.11520528793334961,  \n",
      "\n"
     ]
    },
    {
     "data": {
      "image/png": "[encoded data removed]",
      "text/plain": [
       "<matplotlib.figure.Figure at 0x7fc5707b2eb8>"
      ]
     },
     "metadata": {},
     "output_type": "display_data"
    }
   ],
   "source": [
    "# compute\n",
    "# Start training\n",
    "\n",
    "with tf.Session() as sess:\n",
    "    sess.run(init)\n",
    "    # Fit all training data\n",
    "    t_start = time.time()\n",
    "    values = {}\n",
    "    for epoch in range(training_epochs):\n",
    "        for (X, Y) in zip(train_X, train_Y):\n",
    "            values[x] = X\n",
    "            values[y] = Y\n",
    "            #compute the gradients\n",
    "            cost_np,_ = sess.run([cost,updates], feed_dict=values)\n",
    "            #print(w_np,b_np)\n",
    "            #print cost_np\n",
    "            #update the parameters\n",
    "            #values[w] -= learning_rate * grad_w_np\n",
    "            #values[b] -= learning_rate * grad_b_np\n",
    "\n",
    "        #Display logs per epoch step\n",
    "        #print (epoch+1) % display_step\n",
    "        #print values\n",
    "        if (epoch+1) % display_step == 0:\n",
    "            c = sess.run(cost, feed_dict=values)\n",
    "            #print(c)\n",
    "            print(\"Epoch: {}, \".format(epoch+1), \"cost={}, \".format(c), \\\n",
    "                \"W={}, \".format(sess.run(w)), \"b={}\".format(sess.run(b)))\n",
    "\n",
    "    print(\"Optimization Finished, spend time: {}!\".format(time.time()-t_start))\n",
    "    values[x] = train_X\n",
    "    values[y] = train_Y\n",
    "  \n",
    "    training_cost = sess.run(cost, feed_dict=values)\n",
    "    print(\"Training cost={}, \".format(training_cost), \"w={}, \".format(sess.run(w,feed_dict=values)), \"b={}, \".format(sess.run(b,feed_dict=values)), '\\n')\n",
    "\n",
    "    #Graphic display\n",
    "    plt.plot(train_X, train_Y, 'ro', label='Original data')\n",
    "    plt.plot(train_X, sess.run(w,feed_dict=values) * train_X + sess.run(b,feed_dict=values), label='Fitted line')\n",
    "    plt.legend()\n",
    "    plt.show()"
   ]
  },
  {
   "cell_type": "code",
   "execution_count": null,
   "metadata": {},
   "outputs": [],
   "source": [
    "# v4"
   ]
  },
  {
   "cell_type": "code",
   "execution_count": 23,
   "metadata": {},
   "outputs": [
    {
     "data": {
      "text/plain": [
       "<tensorflow.python.summary.writer.writer.FileWriter at 0x7fc58808a278>"
      ]
     },
     "execution_count": 23,
     "metadata": {},
     "output_type": "execute_result"
    }
   ],
   "source": [
    "tf.reset_default_graph()\n",
    "# define the input by placeholder\n",
    "with tf.name_scope('inputs'):\n",
    "    x = tf.placeholder(tf.float32,name='x')\n",
    "    y = tf.placeholder(tf.float32,name='y')\n",
    "# define the weight\n",
    "# represent the learnable paramters by tf.placeholder\n",
    "with tf.variable_scope('params'):\n",
    "    w = tf.Variable(rng.randn(),name='w')\n",
    "    b = tf.Variable(rng.randn(),name='b')\n",
    "# construct inference model\n",
    "with tf.name_scope('inference'):\n",
    "    y_pred = tf.multiply(w,x) + b\n",
    "# Mean squared error as loss function\n",
    "with tf.name_scope('loss'):\n",
    "    cost = tf.reduce_sum(tf.pow(y_pred-y, 2))/(2*n_samples)\n",
    "\"\"\"with tf.name_scope('grads'):\n",
    "    grad_w,grad_b = tf.gradients(cost,[w,b])\n",
    "with tf.name_scope('update_params'):\n",
    "    new_w = w.assign(w-learning_rate*grad_w)\n",
    "    new_b = b.assign(b-learning_rate*grad_b)\n",
    "    print(new_w,new_b)\n",
    "    updates = tf.group(new_w,new_b)\n",
    "    print(updates)\n",
    "\"\"\"\n",
    "with tf.name_scope('optimizer'):\n",
    "    optimizer = tf.train.GradientDescentOptimizer(learning_rate).minimize(cost)\n",
    "init = tf.global_variables_initializer()\n",
    "tf.summary.FileWriter('linear_model_v4',tf.get_default_graph())"
   ]
  },
  {
   "cell_type": "code",
   "execution_count": 24,
   "metadata": {},
   "outputs": [
    {
     "name": "stdout",
     "output_type": "stream",
     "text": [
      "Epoch: 50,  cost=1.5714077790107694e-06,  W=0.3186022639274597,  b=0.30502355098724365\n",
      "Epoch: 100,  cost=2.650497890499537e-06,  W=0.3144979476928711,  b=0.3345493674278259\n",
      "Epoch: 150,  cost=1.8820182958734222e-05,  W=0.3106376826763153,  b=0.36231905221939087\n",
      "Epoch: 200,  cost=4.7435907617909834e-05,  W=0.3070070743560791,  b=0.3884379267692566\n",
      "Epoch: 250,  cost=8.620761946076527e-05,  W=0.30359238386154175,  b=0.4130028188228607\n",
      "Epoch: 300,  cost=0.0001331637758994475,  W=0.3003809154033661,  b=0.43610629439353943\n",
      "Epoch: 350,  cost=0.0001866065722424537,  W=0.29736027121543884,  b=0.4578363001346588\n",
      "Epoch: 400,  cost=0.0002450809988658875,  W=0.294519305229187,  b=0.47827401757240295\n",
      "Epoch: 450,  cost=0.00030733394669368863,  W=0.29184746742248535,  b=0.49749496579170227\n",
      "Epoch: 500,  cost=0.00037231334135867655,  W=0.28933441638946533,  b=0.5155739784240723\n",
      "Epoch: 550,  cost=0.0004391044203657657,  W=0.2869708836078644,  b=0.5325767993927002\n",
      "Epoch: 600,  cost=0.0005069556063972414,  W=0.284747838973999,  b=0.5485694408416748\n",
      "Epoch: 650,  cost=0.0005752135766670108,  W=0.2826569378376007,  b=0.5636107921600342\n",
      "Epoch: 700,  cost=0.0006433503585867584,  W=0.28069034218788147,  b=0.577758252620697\n",
      "Epoch: 750,  cost=0.0007109182770363986,  W=0.2788407504558563,  b=0.5910646319389343\n",
      "Epoch: 800,  cost=0.0007775425910949707,  W=0.2771010100841522,  b=0.6035796999931335\n",
      "Epoch: 850,  cost=0.0008429273730143905,  W=0.27546489238739014,  b=0.615350067615509\n",
      "Epoch: 900,  cost=0.0009068157523870468,  W=0.27392643690109253,  b=0.6264176964759827\n",
      "Epoch: 950,  cost=0.0009690343285910785,  W=0.2724793553352356,  b=0.6368275880813599\n",
      "Epoch: 1000,  cost=0.0010294420644640923,  W=0.2711183726787567,  b=0.6466186046600342\n",
      "Optimization Finished, spend time: 4.978055715560913!\n",
      "Training cost=0.0784442201256752,  w=0.2711183726787567,  b=0.6466186046600342,  \n",
      "\n"
     ]
    },
    {
     "data": {
      "image/png": "[encoded data removed]",
      "text/plain": [
       "<matplotlib.figure.Figure at 0x7fc5882ec390>"
      ]
     },
     "metadata": {},
     "output_type": "display_data"
    }
   ],
   "source": [
    "# compute\n",
    "# Start training\n",
    "\n",
    "with tf.Session() as sess:\n",
    "    sess.run(init)\n",
    "    # Fit all training data\n",
    "    t_start = time.time()\n",
    "    values = {}\n",
    "    for epoch in range(training_epochs):\n",
    "        for (X, Y) in zip(train_X, train_Y):\n",
    "            values[x] = X\n",
    "            values[y] = Y\n",
    "            #compute the gradients\n",
    "            cost_np,_ = sess.run([cost,optimizer], feed_dict=values)\n",
    "            #print(w_np,b_np)\n",
    "            #print cost_np\n",
    "            #update the parameters\n",
    "            #values[w] -= learning_rate * grad_w_np\n",
    "            #values[b] -= learning_rate * grad_b_np\n",
    "\n",
    "        #Display logs per epoch step\n",
    "        #print (epoch+1) % display_step\n",
    "        #print values\n",
    "        if (epoch+1) % display_step == 0:\n",
    "            c = sess.run(cost, feed_dict=values)\n",
    "            #print(c)\n",
    "            print(\"Epoch: {}, \".format(epoch+1), \"cost={}, \".format(c), \\\n",
    "                \"W={}, \".format(sess.run(w)), \"b={}\".format(sess.run(b)))\n",
    "\n",
    "    print(\"Optimization Finished, spend time: {}!\".format(time.time()-t_start))\n",
    "    values[x] = train_X\n",
    "    values[y] = train_Y\n",
    "  \n",
    "    training_cost = sess.run(cost, feed_dict=values)\n",
    "    print(\"Training cost={}, \".format(training_cost), \"w={}, \".format(sess.run(w,feed_dict=values)), \"b={}, \".format(sess.run(b,feed_dict=values)), '\\n')\n",
    "\n",
    "    #Graphic display\n",
    "    plt.plot(train_X, train_Y, 'ro', label='Original data')\n",
    "    plt.plot(train_X, sess.run(w,feed_dict=values) * train_X + sess.run(b,feed_dict=values), label='Fitted line')\n",
    "    plt.legend()\n",
    "    plt.show()"
   ]
  },
  {
   "cell_type": "code",
   "execution_count": null,
   "metadata": {},
   "outputs": [],
   "source": []
  },
  {
   "cell_type": "markdown",
   "metadata": {},
   "source": [
    "Assignment: replace the loss node with tf api"
   ]
  },
  {
   "cell_type": "code",
   "execution_count": null,
   "metadata": {},
   "outputs": [],
   "source": [
    "tf.reset_default_graph()\n",
    "# define the input by placeholder\n",
    "with tf.name_scope('inputs'):\n",
    "    x = tf.placeholder(tf.float32,name='x')\n",
    "    y = tf.placeholder(tf.float32,name='y')\n",
    "# define the weight\n",
    "# represent the learnable paramters by tf.placeholder\n",
    "with tf.variable_scope('params'):\n",
    "    w = tf.Variable(rng.randn(),name='w')\n",
    "    b = tf.Variable(rng.randn(),name='b')\n",
    "# construct inference model\n",
    "with tf.name_scope('inference'):\n",
    "    y_pred = tf.multiply(w,x) + b\n",
    "# Mean squared error as loss function\n",
    "with tf.name_scope('loss'):\n",
    "    #cost = tf.reduce_sum(tf.pow(y_pred-y, 2))/(2*n_samples)\n",
    "    cost = tf.losses.mean_squared_error(labels=y, predictions=y_pred)\n",
    "with tf.name_scope('optimizer'):\n",
    "    optimizer = tf.train.GradientDescentOptimizer(learning_rate).minimize(cost)\n",
    "init = tf.global_variables_initializer()\n",
    "tf.summary.FileWriter('linear_model_v4',tf.get_default_graph())"
   ]
  },
  {
   "cell_type": "code",
   "execution_count": 13,
   "metadata": {},
   "outputs": [],
   "source": [
    "tf.reset_default_graph()\n",
    "# tf Graph Input\n",
    "X = tf.placeholder(\"float\")\n",
    "Y = tf.placeholder(\"float\")\n",
    "\n",
    "# Set model weights\n",
    "W = tf.Variable(rng.randn(), name=\"weight\")\n",
    "b = tf.Variable(rng.randn(), name=\"bias\")"
   ]
  },
  {
   "cell_type": "code",
   "execution_count": 14,
   "metadata": {},
   "outputs": [],
   "source": [
    "# Construct a linear model\n",
    "pred = tf.add(tf.multiply(X, W), b)"
   ]
  },
  {
   "cell_type": "code",
   "execution_count": 18,
   "metadata": {},
   "outputs": [
    {
     "name": "stdout",
     "output_type": "stream",
     "text": [
      "17\n"
     ]
    }
   ],
   "source": [
    "# Mean squared error\n",
    "cost = tf.reduce_sum(tf.pow(pred-Y, 2))/(2.*n_samples)\n",
    "print n_samples\n",
    "#cost = tf.reduce_sum(tf.pow(y_pred-y, 2))/(2*n_samples)\n",
    "# Gradient descent\n",
    "optimizer = tf.train.GradientDescentOptimizer(learning_rate).minimize(cost)"
   ]
  },
  {
   "cell_type": "code",
   "execution_count": 19,
   "metadata": {},
   "outputs": [],
   "source": [
    "# Initialize the variables (i.e. assign their default value)\n",
    "init = tf.global_variables_initializer()"
   ]
  },
  {
   "cell_type": "code",
   "execution_count": 20,
   "metadata": {},
   "outputs": [
    {
     "name": "stdout",
     "output_type": "stream",
     "text": [
      "Epoch: 0050 cost= 0.079245120 W= 0.277222 b= 0.609393\n",
      "Epoch: 0100 cost= 0.078977935 W= 0.275593 b= 0.621037\n",
      "Epoch: 0150 cost= 0.078742325 W= 0.274062 b= 0.631974\n",
      "Epoch: 0200 cost= 0.078534484 W= 0.272625 b= 0.642249\n",
      "Epoch: 0250 cost= 0.078351215 W= 0.271274 b= 0.651901\n",
      "Epoch: 0300 cost= 0.078189649 W= 0.270006 b= 0.660967\n",
      "Epoch: 0350 cost= 0.078047112 W= 0.268814 b= 0.669485\n",
      "Epoch: 0400 cost= 0.077921450 W= 0.267694 b= 0.677487\n",
      "Epoch: 0450 cost= 0.077810638 W= 0.266642 b= 0.685003\n",
      "Epoch: 0500 cost= 0.077712923 W= 0.265654 b= 0.692063\n",
      "Epoch: 0550 cost= 0.077626802 W= 0.264726 b= 0.698696\n",
      "Epoch: 0600 cost= 0.077550873 W= 0.263854 b= 0.704927\n",
      "Epoch: 0650 cost= 0.077483937 W= 0.263035 b= 0.710781\n",
      "Epoch: 0700 cost= 0.077424921 W= 0.262266 b= 0.716279\n",
      "Epoch: 0750 cost= 0.077372931 W= 0.261543 b= 0.721446\n",
      "Epoch: 0800 cost= 0.077327058 W= 0.260864 b= 0.726299\n",
      "Epoch: 0850 cost= 0.077286676 W= 0.260226 b= 0.730858\n",
      "Epoch: 0900 cost= 0.077251084 W= 0.259627 b= 0.73514\n",
      "Epoch: 0950 cost= 0.077219732 W= 0.259064 b= 0.739163\n",
      "Epoch: 1000 cost= 0.077192098 W= 0.258535 b= 0.742941\n",
      "Optimization Finished, spend time: 8.76383304596!\n",
      "Training cost= 0.0771423 W= 0.258535 b= 0.742941 \n",
      "\n"
     ]
    },
    {
     "data": {
      "image/png": "[encoded data removed]",
      "text/plain": [
       "<matplotlib.figure.Figure at 0x7f129c313310>"
      ]
     },
     "metadata": {},
     "output_type": "display_data"
    }
   ],
   "source": [
    "# Start training\n",
    "with tf.Session() as sess:\n",
    "    t_start = time.time()\n",
    "    sess.run(init)\n",
    "\n",
    "    # Fit all training data\n",
    "    for epoch in range(training_epochs):\n",
    "        for (x, y) in zip(train_X, train_Y):\n",
    "            #print x\n",
    "            sess.run(optimizer, feed_dict={X: x, Y: y})\n",
    "\n",
    "        #Display logs per epoch step\n",
    "        if (epoch+1) % display_step == 0:\n",
    "            c,_ = sess.run([cost,optimizer], feed_dict={X: train_X, Y:train_Y})\n",
    "            print \"Epoch:\", '%04d' % (epoch+1), \"cost=\", \"{:.9f}\".format(c), \\\n",
    "                \"W=\", sess.run(W), \"b=\", sess.run(b)\n",
    "\n",
    "    print \"Optimization Finished, spend time: {}!\".format(time.time()-t_start)\n",
    "    training_cost = sess.run(cost, feed_dict={X: train_X, Y: train_Y})\n",
    "    print \"Training cost=\", training_cost, \"W=\", sess.run(W), \"b=\", sess.run(b), '\\n'\n",
    "\n",
    "    #Graphic display\n",
    "    plt.plot(train_X, train_Y, 'ro', label='Original data')\n",
    "    plt.plot(train_X, sess.run(W) * train_X + sess.run(b), label='Fitted line')\n",
    "    plt.legend()\n",
    "    plt.show()"
   ]
  },
  {
   "cell_type": "code",
   "execution_count": null,
   "metadata": {},
   "outputs": [],
   "source": [
    "# Regression result"
   ]
  },
  {
   "cell_type": "code",
   "execution_count": null,
   "metadata": {},
   "outputs": [],
   "source": []
  }
 ],
 "metadata": {
  "anaconda-cloud": {},
  "kernelspec": {
   "display_name": "Python 2",
   "language": "python",
   "name": "python2"
  },
  "language_info": {
   "codemirror_mode": {
    "name": "ipython",
    "version": 3
   },
   "file_extension": ".py",
   "mimetype": "text/x-python",
   "name": "python",
   "nbconvert_exporter": "python",
   "pygments_lexer": "ipython3",
   "version": "3.6.3"
  }
 },
 "nbformat": 4,
 "nbformat_minor": 1
}
